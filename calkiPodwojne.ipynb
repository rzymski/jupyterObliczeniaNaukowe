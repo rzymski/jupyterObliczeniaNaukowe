{
 "cells": [
  {
   "cell_type": "code",
   "id": "initial_id",
   "metadata": {
    "collapsed": true,
    "ExecuteTime": {
     "end_time": "2024-06-11T09:34:23.292959Z",
     "start_time": "2024-06-11T09:34:23.288750Z"
    }
   },
   "source": [
    "from sympy import *\n",
    "init_printing()"
   ],
   "outputs": [],
   "execution_count": 281
  },
  {
   "metadata": {
    "ExecuteTime": {
     "end_time": "2024-06-11T09:34:23.545105Z",
     "start_time": "2024-06-11T09:34:23.540897Z"
    }
   },
   "cell_type": "code",
   "source": "x, y = symbols('x y')",
   "id": "7577dce4734936a4",
   "outputs": [],
   "execution_count": 282
  },
  {
   "metadata": {
    "ExecuteTime": {
     "end_time": "2024-06-11T09:34:23.622315Z",
     "start_time": "2024-06-11T09:34:23.585628Z"
    }
   },
   "cell_type": "code",
   "source": [
    "f11 = 2*x+y-3*x**2\n",
    "f11"
   ],
   "id": "904f4b43eddc141e",
   "outputs": [
    {
     "data": {
      "text/plain": [
       "     2          \n",
       "- 3⋅x  + 2⋅x + y"
      ],
      "image/png": "[encoded data removed]",
      "text/latex": "$\\displaystyle - 3 x^{2} + 2 x + y$"
     },
     "execution_count": 283,
     "metadata": {},
     "output_type": "execute_result"
    }
   ],
   "execution_count": 283
  },
  {
   "metadata": {
    "ExecuteTime": {
     "end_time": "2024-06-11T09:34:23.782701Z",
     "start_time": "2024-06-11T09:34:23.624328Z"
    }
   },
   "cell_type": "code",
   "source": "Integral(f11, (y, 4, 7), (x, 0, 3))",
   "id": "7c55d71e44c9e814",
   "outputs": [
    {
     "data": {
      "text/plain": [
       "3 7                         \n",
       "⌠ ⌠                         \n",
       "⎮ ⎮ ⎛     2          ⎞      \n",
       "⎮ ⎮ ⎝- 3⋅x  + 2⋅x + y⎠ dy dx\n",
       "⌡ ⌡                         \n",
       "0 4                         "
      ],
      "image/png": "[encoded data removed]",
      "text/latex": "$\\displaystyle \\int\\limits_{0}^{3}\\int\\limits_{4}^{7} \\left(- 3 x^{2} + 2 x + y\\right)\\, dy\\, dx$"
     },
     "execution_count": 284,
     "metadata": {},
     "output_type": "execute_result"
    }
   ],
   "execution_count": 284
  },
  {
   "metadata": {
    "ExecuteTime": {
     "end_time": "2024-06-11T09:34:23.830008Z",
     "start_time": "2024-06-11T09:34:23.783709Z"
    }
   },
   "cell_type": "code",
   "source": [
    "result11 = integrate(f11, (y, 4, 7), (x, 0, 3))\n",
    "result11.evalf()"
   ],
   "id": "adfabbceb9c92b58",
   "outputs": [
    {
     "data": {
      "text/plain": [
       "-4.50000000000000"
      ],
      "image/png": "[encoded data removed]",
      "text/latex": "$\\displaystyle -4.5$"
     },
     "execution_count": 285,
     "metadata": {},
     "output_type": "execute_result"
    }
   ],
   "execution_count": 285
  },
  {
   "metadata": {
    "ExecuteTime": {
     "end_time": "2024-06-11T09:34:23.857926Z",
     "start_time": "2024-06-11T09:34:23.831016Z"
    }
   },
   "cell_type": "code",
   "source": [
    "f12 = x**2+x*y**2\n",
    "f12"
   ],
   "id": "497a988912c6be92",
   "outputs": [
    {
     "data": {
      "text/plain": [
       " 2      2\n",
       "x  + x⋅y "
      ],
      "image/png": "[encoded data removed]",
      "text/latex": "$\\displaystyle x^{2} + x y^{2}$"
     },
     "execution_count": 286,
     "metadata": {},
     "output_type": "execute_result"
    }
   ],
   "execution_count": 286
  },
  {
   "metadata": {
    "ExecuteTime": {
     "end_time": "2024-06-11T09:34:23.895656Z",
     "start_time": "2024-06-11T09:34:23.859936Z"
    }
   },
   "cell_type": "code",
   "source": "Integral(f12, (x, -1, 1), (y, 2, 4))",
   "id": "3d9bc65a99448ac",
   "outputs": [
    {
     "data": {
      "text/plain": [
       "4 1                   \n",
       "⌠ ⌠                   \n",
       "⎮ ⎮  ⎛ 2      2⎞      \n",
       "⎮ ⎮  ⎝x  + x⋅y ⎠ dx dy\n",
       "⌡ ⌡                   \n",
       "2 -1                  "
      ],
      "image/png": "[encoded data removed]",
      "text/latex": "$\\displaystyle \\int\\limits_{2}^{4}\\int\\limits_{-1}^{1} \\left(x^{2} + x y^{2}\\right)\\, dx\\, dy$"
     },
     "execution_count": 287,
     "metadata": {},
     "output_type": "execute_result"
    }
   ],
   "execution_count": 287
  },
  {
   "metadata": {
    "ExecuteTime": {
     "end_time": "2024-06-11T09:34:23.928989Z",
     "start_time": "2024-06-11T09:34:23.896664Z"
    }
   },
   "cell_type": "code",
   "source": [
    "result12 = integrate(f12, (x, -1, 1), (y, 2, 4))\n",
    "round(result12, 3)"
   ],
   "id": "47c82aee1f71ba4d",
   "outputs": [
    {
     "data": {
      "text/plain": [
       "1.333"
      ],
      "image/png": "[encoded data removed]",
      "text/latex": "$\\displaystyle 1.333$"
     },
     "execution_count": 288,
     "metadata": {},
     "output_type": "execute_result"
    }
   ],
   "execution_count": 288
  },
  {
   "metadata": {
    "ExecuteTime": {
     "end_time": "2024-06-11T09:34:23.962340Z",
     "start_time": "2024-06-11T09:34:23.929998Z"
    }
   },
   "cell_type": "code",
   "source": [
    "f13 = sin(x+y)\n",
    "f13"
   ],
   "id": "7c552b2d9d5af8f3",
   "outputs": [
    {
     "data": {
      "text/plain": [
       "sin(x + y)"
      ],
      "image/png": "[encoded data removed]",
      "text/latex": "$\\displaystyle \\sin{\\left(x + y \\right)}$"
     },
     "execution_count": 289,
     "metadata": {},
     "output_type": "execute_result"
    }
   ],
   "execution_count": 289
  },
  {
   "metadata": {
    "ExecuteTime": {
     "end_time": "2024-06-11T09:34:23.997193Z",
     "start_time": "2024-06-11T09:34:23.963347Z"
    }
   },
   "cell_type": "code",
   "source": "Integral(f13, (y, 0, x), (x, 0, pi/4))",
   "id": "cdd68a9ea3e2c528",
   "outputs": [
    {
     "data": {
      "text/plain": [
       "π                   \n",
       "─                   \n",
       "4 x                 \n",
       "⌠ ⌠                 \n",
       "⎮ ⎮ sin(x + y) dy dx\n",
       "⌡ ⌡                 \n",
       "0 0                 "
      ],
      "image/png": "[encoded data removed]",
      "text/latex": "$\\displaystyle \\int\\limits_{0}^{\\frac{\\pi}{4}}\\int\\limits_{0}^{x} \\sin{\\left(x + y \\right)}\\, dy\\, dx$"
     },
     "execution_count": 290,
     "metadata": {},
     "output_type": "execute_result"
    }
   ],
   "execution_count": 290
  },
  {
   "metadata": {
    "ExecuteTime": {
     "end_time": "2024-06-11T09:34:24.063436Z",
     "start_time": "2024-06-11T09:34:23.999199Z"
    }
   },
   "cell_type": "code",
   "source": [
    "result = integrate(f13, (y, 0, pi/4), (x, 0, pi))\n",
    "round(result, 3)"
   ],
   "id": "f8651aef6b151289",
   "outputs": [
    {
     "data": {
      "text/plain": [
       "1.414"
      ],
      "image/png": "[encoded data removed]",
      "text/latex": "$\\displaystyle 1.414$"
     },
     "execution_count": 291,
     "metadata": {},
     "output_type": "execute_result"
    }
   ],
   "execution_count": 291
  },
  {
   "metadata": {
    "ExecuteTime": {
     "end_time": "2024-06-11T09:34:24.088149Z",
     "start_time": "2024-06-11T09:34:24.064444Z"
    }
   },
   "cell_type": "code",
   "source": [
    "f14 = exp(x*y+1)\n",
    "f14"
   ],
   "id": "60324e991e5879ca",
   "outputs": [
    {
     "data": {
      "text/plain": [
       " x⋅y + 1\n",
       "ℯ       "
      ],
      "image/png": "[encoded data removed]",
      "text/latex": "$\\displaystyle e^{x y + 1}$"
     },
     "execution_count": 292,
     "metadata": {},
     "output_type": "execute_result"
    }
   ],
   "execution_count": 292
  },
  {
   "metadata": {
    "ExecuteTime": {
     "end_time": "2024-06-11T09:34:24.132793Z",
     "start_time": "2024-06-11T09:34:24.090159Z"
    }
   },
   "cell_type": "code",
   "source": "Integral(f14, (y, 0, 1/x), (x, 1, E))",
   "id": "7d513663a9fad62",
   "outputs": [
    {
     "data": {
      "text/plain": [
       "  1               \n",
       "  ─               \n",
       "ℯ x               \n",
       "⌠ ⌠               \n",
       "⎮ ⎮  x⋅y + 1      \n",
       "⎮ ⎮ ℯ        dy dx\n",
       "⌡ ⌡               \n",
       "1 0               "
      ],
      "image/png": "[encoded data removed]",
      "text/latex": "$\\displaystyle \\int\\limits_{1}^{e}\\int\\limits_{0}^{\\frac{1}{x}} e^{x y + 1}\\, dy\\, dx$"
     },
     "execution_count": 293,
     "metadata": {},
     "output_type": "execute_result"
    }
   ],
   "execution_count": 293
  },
  {
   "metadata": {
    "ExecuteTime": {
     "end_time": "2024-06-11T09:34:24.192770Z",
     "start_time": "2024-06-11T09:34:24.133837Z"
    }
   },
   "cell_type": "code",
   "source": [
    "result14 = integrate(f14, (y, 0, 1/x), (x, 1, E))\n",
    "result14.evalf(10)"
   ],
   "id": "e784047029d56306",
   "outputs": [
    {
     "data": {
      "text/plain": [
       "4.670774270"
      ],
      "image/png": "[encoded data removed]",
      "text/latex": "$\\displaystyle 4.67077427$"
     },
     "execution_count": 294,
     "metadata": {},
     "output_type": "execute_result"
    }
   ],
   "execution_count": 294
  },
  {
   "metadata": {
    "ExecuteTime": {
     "end_time": "2024-06-11T09:34:24.493707Z",
     "start_time": "2024-06-11T09:34:24.193815Z"
    }
   },
   "cell_type": "code",
   "source": [
    "p1 = plot_implicit(x-1, (x,-5,5), line_color='blue', show=False, xlabel='OŚ X',ylabel='OŚ Y')\n",
    "p2 = plot_implicit(x-E, (x,-5,10), show=False, line_color='green',label='$x=e$')\n",
    "p3 = plot(0, (x,-10,10), show=False, line_color='orange', label='$y=0$')\n",
    "p4 = plot(1/x,(x,-10,10), show=False, line_color='gold', label='$y=\\frac{1}{x}$')\n",
    "p5 = plot_implicit(And(y < 1/x, y > 0, x < exp(1), x > 1), (x,-10,10),show=False, line_color='red')\n",
    "p1.append(p2[0])\n",
    "p1.append(p3[0])\n",
    "p1.append(p4[0])\n",
    "p1.append(p5[0])\n",
    "p1\n",
    "p1.show()"
   ],
   "id": "9535f9cf8ede0d5e",
   "outputs": [
    {
     "data": {
      "text/plain": [
       "<Figure size 640x480 with 1 Axes>"
      ],
      "image/png": "[encoded data removed]"
     },
     "metadata": {},
     "output_type": "display_data"
    }
   ],
   "execution_count": 295
  },
  {
   "metadata": {},
   "cell_type": "markdown",
   "source": "# ZAD 2",
   "id": "e7925bec886ba293"
  },
  {
   "metadata": {
    "ExecuteTime": {
     "end_time": "2024-06-11T09:34:24.540662Z",
     "start_time": "2024-06-11T09:34:24.495718Z"
    }
   },
   "cell_type": "code",
   "source": [
    "f21=(x**2+y**2)*exp(-1*(x**2+y**2))\n",
    "f21"
   ],
   "id": "444d3d4004405f83",
   "outputs": [
    {
     "data": {
      "text/plain": [
       "              2    2\n",
       "⎛ 2    2⎞  - x  - y \n",
       "⎝x  + y ⎠⋅ℯ         "
      ],
      "image/png": "[encoded data removed]",
      "text/latex": "$\\displaystyle \\left(x^{2} + y^{2}\\right) e^{- x^{2} - y^{2}}$"
     },
     "execution_count": 296,
     "metadata": {},
     "output_type": "execute_result"
    }
   ],
   "execution_count": 296
  },
  {
   "metadata": {
    "ExecuteTime": {
     "end_time": "2024-06-11T09:34:25.127021Z",
     "start_time": "2024-06-11T09:34:24.541670Z"
    }
   },
   "cell_type": "code",
   "source": "plot_implicit(And(x**2 + y**2 <= 2, y <= 0, x <= 0), (x,-2,1), (y,-2,1), show=True, line_color='red')",
   "id": "60ce9e15e0b4dc8",
   "outputs": [
    {
     "data": {
      "text/plain": [
       "<Figure size 640x480 with 1 Axes>"
      ],
      "image/png": "[encoded data removed]"
     },
     "metadata": {},
     "output_type": "display_data"
    },
    {
     "data": {
      "text/plain": [
       "<sympy.plotting.plot.Plot at 0x1a7afaa2750>"
      ]
     },
     "execution_count": 297,
     "metadata": {},
     "output_type": "execute_result"
    }
   ],
   "execution_count": 297
  },
  {
   "metadata": {
    "ExecuteTime": {
     "end_time": "2024-06-11T09:34:25.185413Z",
     "start_time": "2024-06-11T09:34:25.129029Z"
    }
   },
   "cell_type": "code",
   "source": [
    "r, t = symbols('r t')\n",
    "f21_1=f21.subs({x:r*cos(t),y:r*sin(t)})\n",
    "f21_1"
   ],
   "id": "6ddc85dc239afa32",
   "outputs": [
    {
     "data": {
      "text/plain": [
       "                              2    2       2    2   \n",
       "⎛ 2    2       2    2   ⎞  - r ⋅sin (t) - r ⋅cos (t)\n",
       "⎝r ⋅sin (t) + r ⋅cos (t)⎠⋅ℯ                         "
      ],
      "image/png": "[encoded data removed]",
      "text/latex": "$\\displaystyle \\left(r^{2} \\sin^{2}{\\left(t \\right)} + r^{2} \\cos^{2}{\\left(t \\right)}\\right) e^{- r^{2} \\sin^{2}{\\left(t \\right)} - r^{2} \\cos^{2}{\\left(t \\right)}}$"
     },
     "execution_count": 298,
     "metadata": {},
     "output_type": "execute_result"
    }
   ],
   "execution_count": 298
  },
  {
   "metadata": {
    "ExecuteTime": {
     "end_time": "2024-06-11T09:34:25.247122Z",
     "start_time": "2024-06-11T09:34:25.186419Z"
    }
   },
   "cell_type": "code",
   "source": [
    "f21_1 = f21_1.simplify()\n",
    "f21_1"
   ],
   "id": "2b342a1737f4246e",
   "outputs": [
    {
     "data": {
      "text/plain": [
       "      2\n",
       " 2  -r \n",
       "r ⋅ℯ   "
      ],
      "image/png": "[encoded data removed]",
      "text/latex": "$\\displaystyle r^{2} e^{- r^{2}}$"
     },
     "execution_count": 299,
     "metadata": {},
     "output_type": "execute_result"
    }
   ],
   "execution_count": 299
  },
  {
   "metadata": {
    "ExecuteTime": {
     "end_time": "2024-06-11T09:34:25.276889Z",
     "start_time": "2024-06-11T09:34:25.248133Z"
    }
   },
   "cell_type": "code",
   "source": "Integral(f21_1*r, r, t)",
   "id": "f9935d6cc861350a",
   "outputs": [
    {
     "data": {
      "text/plain": [
       "⌠ ⌠              \n",
       "⎮ ⎮       2      \n",
       "⎮ ⎮  3  -r       \n",
       "⎮ ⎮ r ⋅ℯ    dr dt\n",
       "⌡ ⌡              "
      ],
      "image/png": "[encoded data removed]",
      "text/latex": "$\\displaystyle \\iint r^{3} e^{- r^{2}}\\, dr\\, dt$"
     },
     "execution_count": 300,
     "metadata": {},
     "output_type": "execute_result"
    }
   ],
   "execution_count": 300
  },
  {
   "metadata": {
    "ExecuteTime": {
     "end_time": "2024-06-11T09:34:25.336393Z",
     "start_time": "2024-06-11T09:34:25.277895Z"
    }
   },
   "cell_type": "code",
   "source": "integrate(f21_1*r, r, t).simplify()",
   "id": "833991a76f90d67f",
   "outputs": [
    {
     "data": {
      "text/plain": [
       "               2 \n",
       "   ⎛ 2    ⎞  -r  \n",
       "-t⋅⎝r  + 1⎠⋅ℯ    \n",
       "─────────────────\n",
       "        2        "
      ],
      "image/png": "[encoded data removed]",
      "text/latex": "$\\displaystyle - \\frac{t \\left(r^{2} + 1\\right) e^{- r^{2}}}{2}$"
     },
     "execution_count": 301,
     "metadata": {},
     "output_type": "execute_result"
    }
   ],
   "execution_count": 301
  },
  {
   "metadata": {
    "ExecuteTime": {
     "end_time": "2024-06-11T09:34:25.377346Z",
     "start_time": "2024-06-11T09:34:25.337401Z"
    }
   },
   "cell_type": "code",
   "source": "Integral(f21_1*r,(t,pi,(3/2)*pi),(r,0,sqrt(2)))",
   "id": "d5dd67d1aff58075",
   "outputs": [
    {
     "data": {
      "text/plain": [
       "√2 1.5⋅π              \n",
       "⌠    ⌠                \n",
       "⎮    ⎮         2      \n",
       "⎮    ⎮    3  -r       \n",
       "⎮    ⎮   r ⋅ℯ    dt dr\n",
       "⌡    ⌡                \n",
       "0    π                "
      ],
      "image/png": "[encoded data removed]",
      "text/latex": "$\\displaystyle \\int\\limits_{0}^{\\sqrt{2}}\\int\\limits_{\\pi}^{1.5 \\pi} r^{3} e^{- r^{2}}\\, dt\\, dr$"
     },
     "execution_count": 302,
     "metadata": {},
     "output_type": "execute_result"
    }
   ],
   "execution_count": 302
  },
  {
   "metadata": {
    "ExecuteTime": {
     "end_time": "2024-06-11T09:42:04.595241Z",
     "start_time": "2024-06-11T09:42:04.527589Z"
    }
   },
   "cell_type": "code",
   "source": [
    "result = integrate(f21_1*r,(t,pi,(3/2)*pi), (r,0,sqrt(2)))\n",
    "round(result, 3)"
   ],
   "id": "d3f45ff796067eb0",
   "outputs": [
    {
     "data": {
      "text/plain": [
       "0.467"
      ],
      "image/png": "[encoded data removed]",
      "text/latex": "$\\displaystyle 0.467$"
     },
     "execution_count": 346,
     "metadata": {},
     "output_type": "execute_result"
    }
   ],
   "execution_count": 346
  },
  {
   "metadata": {
    "ExecuteTime": {
     "end_time": "2024-06-11T09:34:25.455796Z",
     "start_time": "2024-06-11T09:34:25.453593Z"
    }
   },
   "cell_type": "code",
   "source": "",
   "id": "e297c25feccc9792",
   "outputs": [],
   "execution_count": 303
  },
  {
   "metadata": {
    "ExecuteTime": {
     "end_time": "2024-06-11T09:34:25.486166Z",
     "start_time": "2024-06-11T09:34:25.456804Z"
    }
   },
   "cell_type": "code",
   "source": [
    "f22 = 1/(x**2+y**2+1)\n",
    "f22"
   ],
   "id": "ff3b51f2b04257ad",
   "outputs": [
    {
     "data": {
      "text/plain": [
       "     1     \n",
       "───────────\n",
       " 2    2    \n",
       "x  + y  + 1"
      ],
      "image/png": "[encoded data removed]",
      "text/latex": "$\\displaystyle \\frac{1}{x^{2} + y^{2} + 1}$"
     },
     "execution_count": 304,
     "metadata": {},
     "output_type": "execute_result"
    }
   ],
   "execution_count": 304
  },
  {
   "metadata": {
    "ExecuteTime": {
     "end_time": "2024-06-11T09:34:26.265758Z",
     "start_time": "2024-06-11T09:34:25.487175Z"
    }
   },
   "cell_type": "code",
   "source": "plot_implicit(And(x**2 + y**2 <= 25, x**2 + y**2 >= 9, y >= 0), (x,-5,5), (y,-5,5), line_color='red')",
   "id": "fd32208f76e20859",
   "outputs": [
    {
     "data": {
      "text/plain": [
       "<Figure size 640x480 with 1 Axes>"
      ],
      "image/png": "[encoded data removed]"
     },
     "metadata": {},
     "output_type": "display_data"
    },
    {
     "data": {
      "text/plain": [
       "<sympy.plotting.plot.Plot at 0x1a7afca6450>"
      ]
     },
     "execution_count": 305,
     "metadata": {},
     "output_type": "execute_result"
    }
   ],
   "execution_count": 305
  },
  {
   "metadata": {
    "ExecuteTime": {
     "end_time": "2024-06-11T09:34:26.319244Z",
     "start_time": "2024-06-11T09:34:26.265758Z"
    }
   },
   "cell_type": "code",
   "source": [
    "f22_1=f22.subs({x:r*cos(t),y:r*sin(t)}).simplify()\n",
    "f22_1"
   ],
   "id": "1bce8d96b07f3e42",
   "outputs": [
    {
     "data": {
      "text/plain": [
       "  1   \n",
       "──────\n",
       " 2    \n",
       "r  + 1"
      ],
      "image/png": "[encoded data removed]",
      "text/latex": "$\\displaystyle \\frac{1}{r^{2} + 1}$"
     },
     "execution_count": 306,
     "metadata": {},
     "output_type": "execute_result"
    }
   ],
   "execution_count": 306
  },
  {
   "metadata": {
    "ExecuteTime": {
     "end_time": "2024-06-11T09:34:26.355683Z",
     "start_time": "2024-06-11T09:34:26.320304Z"
    }
   },
   "cell_type": "code",
   "source": "Integral(f22_1, x, y)",
   "id": "72d0c0472d63b1b9",
   "outputs": [
    {
     "data": {
      "text/plain": [
       "⌠ ⌠             \n",
       "⎮ ⎮   1         \n",
       "⎮ ⎮ ────── dx dy\n",
       "⎮ ⎮  2          \n",
       "⎮ ⎮ r  + 1      \n",
       "⌡ ⌡             "
      ],
      "image/png": "[encoded data removed]",
      "text/latex": "$\\displaystyle \\iint \\frac{1}{r^{2} + 1}\\, dx\\, dy$"
     },
     "execution_count": 307,
     "metadata": {},
     "output_type": "execute_result"
    }
   ],
   "execution_count": 307
  },
  {
   "metadata": {
    "ExecuteTime": {
     "end_time": "2024-06-11T09:34:26.390275Z",
     "start_time": "2024-06-11T09:34:26.356727Z"
    }
   },
   "cell_type": "code",
   "source": "Integral(f22_1*r,(t,0,pi),(r,3, 5))",
   "id": "fc6413bb59d35698",
   "outputs": [
    {
     "data": {
      "text/plain": [
       "5 π             \n",
       "⌠ ⌠             \n",
       "⎮ ⎮   r         \n",
       "⎮ ⎮ ────── dt dr\n",
       "⎮ ⎮  2          \n",
       "⎮ ⎮ r  + 1      \n",
       "⌡ ⌡             \n",
       "3 0             "
      ],
      "image/png": "[encoded data removed]",
      "text/latex": "$\\displaystyle \\int\\limits_{3}^{5}\\int\\limits_{0}^{\\pi} \\frac{r}{r^{2} + 1}\\, dt\\, dr$"
     },
     "execution_count": 308,
     "metadata": {},
     "output_type": "execute_result"
    }
   ],
   "execution_count": 308
  },
  {
   "metadata": {
    "ExecuteTime": {
     "end_time": "2024-06-11T09:34:26.539060Z",
     "start_time": "2024-06-11T09:34:26.391322Z"
    }
   },
   "cell_type": "code",
   "source": [
    "result = integrate(f22_1*r,(t,0,pi),(r,3, 5))\n",
    "result.evalf(3)"
   ],
   "id": "5842e8ac36b9b40b",
   "outputs": [
    {
     "data": {
      "text/plain": [
       "1.50"
      ],
      "image/png": "[encoded data removed]",
      "text/latex": "$\\displaystyle 1.5$"
     },
     "execution_count": 309,
     "metadata": {},
     "output_type": "execute_result"
    }
   ],
   "execution_count": 309
  },
  {
   "metadata": {
    "ExecuteTime": {
     "end_time": "2024-06-11T09:34:26.542355Z",
     "start_time": "2024-06-11T09:34:26.540101Z"
    }
   },
   "cell_type": "code",
   "source": "",
   "id": "d923a32bbe233c13",
   "outputs": [],
   "execution_count": 309
  },
  {
   "metadata": {
    "ExecuteTime": {
     "end_time": "2024-06-11T09:34:26.568558Z",
     "start_time": "2024-06-11T09:34:26.543404Z"
    }
   },
   "cell_type": "code",
   "source": [
    "f31 = x**2 + y**2\n",
    "f31"
   ],
   "id": "6cdb15a41353a933",
   "outputs": [
    {
     "data": {
      "text/plain": [
       " 2    2\n",
       "x  + y "
      ],
      "image/png": "[encoded data removed]",
      "text/latex": "$\\displaystyle x^{2} + y^{2}$"
     },
     "execution_count": 310,
     "metadata": {},
     "output_type": "execute_result"
    }
   ],
   "execution_count": 310
  },
  {
   "metadata": {
    "ExecuteTime": {
     "end_time": "2024-06-11T09:34:26.589141Z",
     "start_time": "2024-06-11T09:34:26.569563Z"
    }
   },
   "cell_type": "code",
   "source": [
    "D = (2-0)*(10-0)\n",
    "D"
   ],
   "id": "3f826cf5f382b279",
   "outputs": [
    {
     "data": {
      "text/plain": [
       "20"
      ],
      "image/png": "[encoded data removed]",
      "text/latex": "$\\displaystyle 20$"
     },
     "execution_count": 311,
     "metadata": {},
     "output_type": "execute_result"
    }
   ],
   "execution_count": 311
  },
  {
   "metadata": {
    "ExecuteTime": {
     "end_time": "2024-06-11T09:34:26.627142Z",
     "start_time": "2024-06-11T09:34:26.590147Z"
    }
   },
   "cell_type": "code",
   "source": [
    "fsr = 1/D * Integral(f31,(y,0,10),(x,0,2))\n",
    "fsr"
   ],
   "id": "4fd825e6da953d5c",
   "outputs": [
    {
     "data": {
      "text/plain": [
       "     2 10                \n",
       "     ⌠ ⌠                 \n",
       "     ⎮ ⎮  ⎛ 2    2⎞      \n",
       "0.05⋅⎮ ⎮  ⎝x  + y ⎠ dy dx\n",
       "     ⌡ ⌡                 \n",
       "     0 0                 "
      ],
      "image/png": "[encoded data removed]",
      "text/latex": "$\\displaystyle 0.05 \\int\\limits_{0}^{2}\\int\\limits_{0}^{10} \\left(x^{2} + y^{2}\\right)\\, dy\\, dx$"
     },
     "execution_count": 312,
     "metadata": {},
     "output_type": "execute_result"
    }
   ],
   "execution_count": 312
  },
  {
   "metadata": {
    "ExecuteTime": {
     "end_time": "2024-06-11T09:34:26.660686Z",
     "start_time": "2024-06-11T09:34:26.628148Z"
    }
   },
   "cell_type": "code",
   "source": [
    "result = 1/D * integrate(f31,(y,0,10),(x,0,2))\n",
    "result.evalf(3)"
   ],
   "id": "eb3ed277dd3048aa",
   "outputs": [
    {
     "data": {
      "text/plain": [
       "34.7"
      ],
      "image/png": "[encoded data removed]",
      "text/latex": "$\\displaystyle 34.7$"
     },
     "execution_count": 313,
     "metadata": {},
     "output_type": "execute_result"
    }
   ],
   "execution_count": 313
  },
  {
   "metadata": {
    "ExecuteTime": {
     "end_time": "2024-06-11T09:34:26.663983Z",
     "start_time": "2024-06-11T09:34:26.661693Z"
    }
   },
   "cell_type": "code",
   "source": "",
   "id": "d0d3da1d67a85454",
   "outputs": [],
   "execution_count": 313
  },
  {
   "metadata": {
    "ExecuteTime": {
     "end_time": "2024-06-11T09:34:26.937391Z",
     "start_time": "2024-06-11T09:34:26.664990Z"
    }
   },
   "cell_type": "code",
   "source": [
    "p1 = plot(2*sqrt(x), (x,-10,10), show=False, line_color='green')\n",
    "p2 = plot(3-x,(x,-5,10), (y,-5,10), show=False, line_color='orange')\n",
    "p3 = plot(0,(x,-5,10), (y,-5,10), show=False, line_color='blue')\n",
    "p4 = plot_implicit(And(y**2 <= 4*x, x+y <= 3, y>0), (x,-5,5), (y,-5,5),show=False, line_color='red')\n",
    "p1.append(p2[0])\n",
    "p1.append(p3[0])\n",
    "p1.append(p4[0])\n",
    "p1.show()"
   ],
   "id": "99e9d8431d92a594",
   "outputs": [
    {
     "data": {
      "text/plain": [
       "<Figure size 640x480 with 1 Axes>"
      ],
      "image/png": "[encoded data removed]"
     },
     "metadata": {},
     "output_type": "display_data"
    }
   ],
   "execution_count": 314
  },
  {
   "metadata": {
    "ExecuteTime": {
     "end_time": "2024-06-11T09:34:26.941777Z",
     "start_time": "2024-06-11T09:34:26.938398Z"
    }
   },
   "cell_type": "code",
   "source": "f41 = 2 * sqrt(x)",
   "id": "e5b48d0c7a265c84",
   "outputs": [],
   "execution_count": 315
  },
  {
   "metadata": {
    "ExecuteTime": {
     "end_time": "2024-06-11T09:34:26.963780Z",
     "start_time": "2024-06-11T09:34:26.942784Z"
    }
   },
   "cell_type": "code",
   "source": [
    "g = 3-x\n",
    "g"
   ],
   "id": "aa6fadacd0d7e26",
   "outputs": [
    {
     "data": {
      "text/plain": [
       "3 - x"
      ],
      "image/png": "[encoded data removed]",
      "text/latex": "$\\displaystyle 3 - x$"
     },
     "execution_count": 316,
     "metadata": {},
     "output_type": "execute_result"
    }
   ],
   "execution_count": 316
  },
  {
   "metadata": {
    "ExecuteTime": {
     "end_time": "2024-06-11T09:34:26.983275Z",
     "start_time": "2024-06-11T09:34:26.964787Z"
    }
   },
   "cell_type": "code",
   "source": [
    "h =0\n",
    "h"
   ],
   "id": "5dcb7fbfe37dacd5",
   "outputs": [
    {
     "data": {
      "text/plain": [
       "0"
      ],
      "image/png": "[encoded data removed]",
      "text/latex": "$\\displaystyle 0$"
     },
     "execution_count": 317,
     "metadata": {},
     "output_type": "execute_result"
    }
   ],
   "execution_count": 317
  },
  {
   "metadata": {
    "ExecuteTime": {
     "end_time": "2024-06-11T09:34:27.014423Z",
     "start_time": "2024-06-11T09:34:26.983275Z"
    }
   },
   "cell_type": "code",
   "source": [
    "fg = Eq(f41,g)\n",
    "solve(fg)"
   ],
   "id": "3dddbb1c448d5420",
   "outputs": [
    {
     "data": {
      "text/plain": [
       "[1]"
      ],
      "image/png": "[encoded data removed]",
      "text/latex": "$\\displaystyle \\left[ 1\\right]$"
     },
     "execution_count": 318,
     "metadata": {},
     "output_type": "execute_result"
    }
   ],
   "execution_count": 318
  },
  {
   "metadata": {
    "ExecuteTime": {
     "end_time": "2024-06-11T09:34:27.036418Z",
     "start_time": "2024-06-11T09:34:27.017460Z"
    }
   },
   "cell_type": "code",
   "source": [
    "y = 3 - 1\n",
    "y"
   ],
   "id": "9f18dc19856a6c82",
   "outputs": [
    {
     "data": {
      "text/plain": [
       "2"
      ],
      "image/png": "[encoded data removed]",
      "text/latex": "$\\displaystyle 2$"
     },
     "execution_count": 319,
     "metadata": {},
     "output_type": "execute_result"
    }
   ],
   "execution_count": 319
  },
  {
   "metadata": {
    "ExecuteTime": {
     "end_time": "2024-06-11T09:34:27.061749Z",
     "start_time": "2024-06-11T09:34:27.037432Z"
    }
   },
   "cell_type": "code",
   "source": [
    "P1 = integrate(f41,(x, 0, 1))\n",
    "P1"
   ],
   "id": "100368272eff6296",
   "outputs": [
    {
     "data": {
      "text/plain": [
       "4/3"
      ],
      "image/png": "[encoded data removed]",
      "text/latex": "$\\displaystyle \\frac{4}{3}$"
     },
     "execution_count": 320,
     "metadata": {},
     "output_type": "execute_result"
    }
   ],
   "execution_count": 320
  },
  {
   "metadata": {
    "ExecuteTime": {
     "end_time": "2024-06-11T09:34:27.088666Z",
     "start_time": "2024-06-11T09:34:27.062813Z"
    }
   },
   "cell_type": "code",
   "source": [
    "P2 = integrate(g,(x, 1, 3))\n",
    "P2"
   ],
   "id": "63be1a8e09a8b57e",
   "outputs": [
    {
     "data": {
      "text/plain": [
       "2"
      ],
      "image/png": "[encoded data removed]",
      "text/latex": "$\\displaystyle 2$"
     },
     "execution_count": 321,
     "metadata": {},
     "output_type": "execute_result"
    }
   ],
   "execution_count": 321
  },
  {
   "metadata": {
    "ExecuteTime": {
     "end_time": "2024-06-11T09:34:27.117833Z",
     "start_time": "2024-06-11T09:34:27.089673Z"
    }
   },
   "cell_type": "code",
   "source": [
    "p1I = Integral(f41,(x, 0, 1))\n",
    "p1I"
   ],
   "id": "cd30b7ccd3c74241",
   "outputs": [
    {
     "data": {
      "text/plain": [
       "1        \n",
       "⌠        \n",
       "⎮ 2⋅√x dx\n",
       "⌡        \n",
       "0        "
      ],
      "image/png": "[encoded data removed]",
      "text/latex": "$\\displaystyle \\int\\limits_{0}^{1} 2 \\sqrt{x}\\, dx$"
     },
     "execution_count": 322,
     "metadata": {},
     "output_type": "execute_result"
    }
   ],
   "execution_count": 322
  },
  {
   "metadata": {
    "ExecuteTime": {
     "end_time": "2024-06-11T09:34:27.146450Z",
     "start_time": "2024-06-11T09:34:27.118841Z"
    }
   },
   "cell_type": "code",
   "source": [
    "p2I = Integral(g,(x, 1, 3))\n",
    "p2I"
   ],
   "id": "8da42101fbc8ee2f",
   "outputs": [
    {
     "data": {
      "text/plain": [
       "3           \n",
       "⌠           \n",
       "⎮ (3 - x) dx\n",
       "⌡           \n",
       "1           "
      ],
      "image/png": "[encoded data removed]",
      "text/latex": "$\\displaystyle \\int\\limits_{1}^{3} \\left(3 - x\\right)\\, dx$"
     },
     "execution_count": 323,
     "metadata": {},
     "output_type": "execute_result"
    }
   ],
   "execution_count": 323
  },
  {
   "metadata": {
    "ExecuteTime": {
     "end_time": "2024-06-11T09:34:27.167995Z",
     "start_time": "2024-06-11T09:34:27.147457Z"
    }
   },
   "cell_type": "code",
   "source": [
    "result = P1+P2\n",
    "result.evalf(3)"
   ],
   "id": "a5682a4e5914e4a3",
   "outputs": [
    {
     "data": {
      "text/plain": [
       "3.33"
      ],
      "image/png": "[encoded data removed]",
      "text/latex": "$\\displaystyle 3.33$"
     },
     "execution_count": 324,
     "metadata": {},
     "output_type": "execute_result"
    }
   ],
   "execution_count": 324
  },
  {
   "metadata": {
    "ExecuteTime": {
     "end_time": "2024-06-11T09:34:27.403918Z",
     "start_time": "2024-06-11T09:34:27.169002Z"
    }
   },
   "cell_type": "code",
   "source": [
    "x, y = symbols('x y')\n",
    "p1 = plot(0, (x,-2,4), show=False, line_color='blue', label='$y=0$')\n",
    "p2 = plot(1-x,(x,-2,4), show=False, line_color='orange', label='$y=\\frac{1}{x}$')\n",
    "p3 = plot_implicit(x-0, (x,-2,4), (y,-5,5), show=False, line_color='orange')\n",
    "p4 = plot_implicit(And(x+y <= 1, x >= 0, y>= 0), (x,-5,5), (y,-5,5),show=False, line_color='red')\n",
    "p1.append(p2[0])\n",
    "p1.append(p3[0])\n",
    "p1.append(p4[0])\n",
    "p1\n",
    "p1.show()"
   ],
   "id": "87a5bc54027650ee",
   "outputs": [
    {
     "data": {
      "text/plain": [
       "<Figure size 640x480 with 1 Axes>"
      ],
      "image/png": "[encoded data removed]"
     },
     "metadata": {},
     "output_type": "display_data"
    }
   ],
   "execution_count": 325
  },
  {
   "metadata": {
    "ExecuteTime": {
     "end_time": "2024-06-11T09:34:27.408512Z",
     "start_time": "2024-06-11T09:34:27.404921Z"
    }
   },
   "cell_type": "code",
   "source": "z = exp(y-x)",
   "id": "2b748dd2672cfd66",
   "outputs": [],
   "execution_count": 326
  },
  {
   "metadata": {
    "ExecuteTime": {
     "end_time": "2024-06-11T09:34:27.441304Z",
     "start_time": "2024-06-11T09:34:27.409517Z"
    }
   },
   "cell_type": "code",
   "source": "Integral((z-0),(y,0,1-x),(x,0,1))",
   "id": "a85989db5639f9d0",
   "outputs": [
    {
     "data": {
      "text/plain": [
       "1 1 - x              \n",
       "⌠   ⌠                \n",
       "⎮   ⎮    -x + y      \n",
       "⎮   ⎮   ℯ       dy dx\n",
       "⌡   ⌡                \n",
       "0   0                "
      ],
      "image/png": "[encoded data removed]",
      "text/latex": "$\\displaystyle \\int\\limits_{0}^{1}\\int\\limits_{0}^{1 - x} e^{- x + y}\\, dy\\, dx$"
     },
     "execution_count": 327,
     "metadata": {},
     "output_type": "execute_result"
    }
   ],
   "execution_count": 327
  },
  {
   "metadata": {
    "ExecuteTime": {
     "end_time": "2024-06-11T09:34:27.527704Z",
     "start_time": "2024-06-11T09:34:27.442309Z"
    }
   },
   "cell_type": "code",
   "source": [
    "result = integrate((z-0),(y,0,1-x),(x,0,1))\n",
    "result.evalf(3)"
   ],
   "id": "a5f650a40eb4df1c",
   "outputs": [
    {
     "data": {
      "text/plain": [
       "0.543"
      ],
      "image/png": "[encoded data removed]",
      "text/latex": "$\\displaystyle 0.543$"
     },
     "execution_count": 328,
     "metadata": {},
     "output_type": "execute_result"
    }
   ],
   "execution_count": 328
  },
  {
   "metadata": {
    "ExecuteTime": {
     "end_time": "2024-06-11T09:34:27.530639Z",
     "start_time": "2024-06-11T09:34:27.528710Z"
    }
   },
   "cell_type": "code",
   "source": "",
   "id": "42aa53d8359a6269",
   "outputs": [],
   "execution_count": 328
  },
  {
   "metadata": {},
   "cell_type": "markdown",
   "source": "# ZAD 6",
   "id": "34d792953704809a"
  },
  {
   "metadata": {
    "ExecuteTime": {
     "end_time": "2024-06-11T09:34:27.957311Z",
     "start_time": "2024-06-11T09:34:27.532647Z"
    }
   },
   "cell_type": "code",
   "source": [
    "p1 = plot(0, (x,-10,20), show=False, line_color='blue')\n",
    "p2 = plot_implicit(8-2*x-2*y,(x,-10,20), (y,-10,5), show=False, line_color='orange')\n",
    "p3 = plot_implicit(x-0, (x,-10,20), show=False, line_color='green')\n",
    "p4 = plot_implicit(And(8-2*x-2*y >= 0, x >= 0, y>= 0), (x,-10,20), (y,-10,5),show=False, line_color='red')\n",
    "p1.append(p2[0])\n",
    "p1.append(p3[0])\n",
    "p1.append(p4[0])\n",
    "p1.show()"
   ],
   "id": "1c43bd669dfe63ac",
   "outputs": [
    {
     "data": {
      "text/plain": [
       "<Figure size 640x480 with 1 Axes>"
      ],
      "image/png": "[encoded data removed]"
     },
     "metadata": {},
     "output_type": "display_data"
    }
   ],
   "execution_count": 329
  },
  {
   "metadata": {
    "ExecuteTime": {
     "end_time": "2024-06-11T09:34:27.982890Z",
     "start_time": "2024-06-11T09:34:27.958325Z"
    }
   },
   "cell_type": "code",
   "source": [
    "f61 = 8-2*x-2*y\n",
    "f61"
   ],
   "id": "16c8ff6f8dc2f32e",
   "outputs": [
    {
     "data": {
      "text/plain": [
       "-2⋅x - 2⋅y + 8"
      ],
      "image/png": "[encoded data removed]",
      "text/latex": "$\\displaystyle - 2 x - 2 y + 8$"
     },
     "execution_count": 330,
     "metadata": {},
     "output_type": "execute_result"
    }
   ],
   "execution_count": 330
  },
  {
   "metadata": {
    "ExecuteTime": {
     "end_time": "2024-06-11T09:34:28.005682Z",
     "start_time": "2024-06-11T09:34:27.983897Z"
    }
   },
   "cell_type": "code",
   "source": [
    "expr = sqrt(1+f61.diff(x,1)**2+f61.diff(y,1)**2)\n",
    "expr"
   ],
   "id": "45082fb97d2bfe2d",
   "outputs": [
    {
     "data": {
      "text/plain": [
       "3"
      ],
      "image/png": "[encoded data removed]",
      "text/latex": "$\\displaystyle 3$"
     },
     "execution_count": 331,
     "metadata": {},
     "output_type": "execute_result"
    }
   ],
   "execution_count": 331
  },
  {
   "metadata": {},
   "cell_type": "markdown",
   "source": "# ZAD 7",
   "id": "e13dc32fdca1feaa"
  },
  {
   "metadata": {
    "ExecuteTime": {
     "end_time": "2024-06-11T09:34:28.051066Z",
     "start_time": "2024-06-11T09:34:28.006688Z"
    }
   },
   "cell_type": "code",
   "source": [
    "mx0I = Integral(1*1, (x, 0, 1), (y, 0 , 10))\n",
    "mx0 = integrate(1*1, (x, 0, 1), (y, 0 , 10))\n",
    "mx1I = Integral(y, (x, 0, 1), (y, 0 , 10))\n",
    "mx1 = integrate(y, (x, 0, 1), (y, 0 , 10))\n",
    "mx2I = Integral(y**2, (x, 0, 1), (y, 0 , 10))\n",
    "mx2 = integrate(y**2, (x, 0, 1), (y, 0 , 10))\n",
    "#my\n",
    "my0I = Integral(1*1, (x, 0, 1), (y, 0 , 10))\n",
    "my0 = integrate(1*1, (x, 0, 1), (y, 0 , 10))\n",
    "my1I = Integral(x, (x, 0, 1), (y, 0 , 10))\n",
    "\n",
    "my1 = integrate(x, (x, 0, 1), (y, 0 , 10))\n",
    "my2I = Integral(x**2, (x, 0, 1), (y, 0 , 10))\n",
    "my2 = integrate(x**2, (x, 0, 1), (y, 0 , 10))"
   ],
   "id": "3353f8a5765450fc",
   "outputs": [],
   "execution_count": 332
  },
  {
   "metadata": {
    "ExecuteTime": {
     "end_time": "2024-06-11T09:34:28.078082Z",
     "start_time": "2024-06-11T09:34:28.052070Z"
    }
   },
   "cell_type": "code",
   "source": "round(mx0, 3)",
   "id": "4d13b12aa3b08e3a",
   "outputs": [
    {
     "data": {
      "text/plain": [
       "10"
      ],
      "image/png": "[encoded data removed]",
      "text/latex": "$\\displaystyle 10$"
     },
     "execution_count": 333,
     "metadata": {},
     "output_type": "execute_result"
    }
   ],
   "execution_count": 333
  },
  {
   "metadata": {
    "ExecuteTime": {
     "end_time": "2024-06-11T09:34:28.106651Z",
     "start_time": "2024-06-11T09:34:28.079088Z"
    }
   },
   "cell_type": "code",
   "source": "round(mx1, 3)",
   "id": "919108cf181abba7",
   "outputs": [
    {
     "data": {
      "text/plain": [
       "50"
      ],
      "image/png": "[encoded data removed]",
      "text/latex": "$\\displaystyle 50$"
     },
     "execution_count": 334,
     "metadata": {},
     "output_type": "execute_result"
    }
   ],
   "execution_count": 334
  },
  {
   "metadata": {
    "ExecuteTime": {
     "end_time": "2024-06-11T09:34:28.137759Z",
     "start_time": "2024-06-11T09:34:28.107659Z"
    }
   },
   "cell_type": "code",
   "source": "round(mx2, 3)",
   "id": "136c88eab2f308d5",
   "outputs": [
    {
     "data": {
      "text/plain": [
       "333.333"
      ],
      "image/png": "[encoded data removed]",
      "text/latex": "$\\displaystyle 333.333$"
     },
     "execution_count": 335,
     "metadata": {},
     "output_type": "execute_result"
    }
   ],
   "execution_count": 335
  },
  {
   "metadata": {
    "ExecuteTime": {
     "end_time": "2024-06-11T09:34:28.164930Z",
     "start_time": "2024-06-11T09:34:28.138763Z"
    }
   },
   "cell_type": "code",
   "source": "round(my0, 3)",
   "id": "d3f4c5fc689c9fd0",
   "outputs": [
    {
     "data": {
      "text/plain": [
       "10"
      ],
      "image/png": "[encoded data removed]",
      "text/latex": "$\\displaystyle 10$"
     },
     "execution_count": 336,
     "metadata": {},
     "output_type": "execute_result"
    }
   ],
   "execution_count": 336
  },
  {
   "metadata": {
    "ExecuteTime": {
     "end_time": "2024-06-11T09:34:28.185493Z",
     "start_time": "2024-06-11T09:34:28.165935Z"
    }
   },
   "cell_type": "code",
   "source": "round(my1, 3)",
   "id": "145c33f601874c74",
   "outputs": [
    {
     "data": {
      "text/plain": [
       "5"
      ],
      "image/png": "[encoded data removed]",
      "text/latex": "$\\displaystyle 5$"
     },
     "execution_count": 337,
     "metadata": {},
     "output_type": "execute_result"
    }
   ],
   "execution_count": 337
  },
  {
   "metadata": {
    "ExecuteTime": {
     "end_time": "2024-06-11T09:34:28.212157Z",
     "start_time": "2024-06-11T09:34:28.187498Z"
    }
   },
   "cell_type": "code",
   "source": "round(my2, 3)",
   "id": "6ea7c99bbad43d15",
   "outputs": [
    {
     "data": {
      "text/plain": [
       "3.333"
      ],
      "image/png": "[encoded data removed]",
      "text/latex": "$\\displaystyle 3.333$"
     },
     "execution_count": 338,
     "metadata": {},
     "output_type": "execute_result"
    }
   ],
   "execution_count": 338
  },
  {
   "metadata": {
    "ExecuteTime": {
     "end_time": "2024-06-11T09:34:28.261845Z",
     "start_time": "2024-06-11T09:34:28.213167Z"
    }
   },
   "cell_type": "code",
   "source": [
    "ioI = Integral(x**2+y**2, (x, 0, 1), (y, 0 , 10))\n",
    "ioI"
   ],
   "id": "88f3426a609bd7e6",
   "outputs": [
    {
     "data": {
      "text/plain": [
       "10 1                \n",
       "⌠  ⌠                \n",
       "⎮  ⎮ ⎛ 2    2⎞      \n",
       "⎮  ⎮ ⎝x  + y ⎠ dx dy\n",
       "⌡  ⌡                \n",
       "0  0                "
      ],
      "image/png": "[encoded data removed]",
      "text/latex": "$\\displaystyle \\int\\limits_{0}^{10}\\int\\limits_{0}^{1} \\left(x^{2} + y^{2}\\right)\\, dx\\, dy$"
     },
     "execution_count": 339,
     "metadata": {},
     "output_type": "execute_result"
    }
   ],
   "execution_count": 339
  },
  {
   "metadata": {
    "ExecuteTime": {
     "end_time": "2024-06-11T09:34:56.725377Z",
     "start_time": "2024-06-11T09:34:56.689315Z"
    }
   },
   "cell_type": "code",
   "source": [
    "io = integrate(x**2+y**2, (x, 0, 1), (y, 0 , 10))\n",
    "round(io, 3)"
   ],
   "id": "552ee12873972487",
   "outputs": [
    {
     "data": {
      "text/plain": [
       "336.667"
      ],
      "image/png": "[encoded data removed]",
      "text/latex": "$\\displaystyle 336.667$"
     },
     "execution_count": 343,
     "metadata": {},
     "output_type": "execute_result"
    }
   ],
   "execution_count": 343
  },
  {
   "metadata": {
    "ExecuteTime": {
     "end_time": "2024-06-11T09:34:28.338310Z",
     "start_time": "2024-06-11T09:34:28.310512Z"
    }
   },
   "cell_type": "code",
   "source": [
    "xc = my1/mx0\n",
    "xc"
   ],
   "id": "5a66c72c9b91a86a",
   "outputs": [
    {
     "data": {
      "text/plain": [
       "1/2"
      ],
      "image/png": "[encoded data removed]",
      "text/latex": "$\\displaystyle \\frac{1}{2}$"
     },
     "execution_count": 341,
     "metadata": {},
     "output_type": "execute_result"
    }
   ],
   "execution_count": 341
  },
  {
   "metadata": {
    "ExecuteTime": {
     "end_time": "2024-06-11T09:34:28.359696Z",
     "start_time": "2024-06-11T09:34:28.339352Z"
    }
   },
   "cell_type": "code",
   "source": [
    "yc = mx1/mx0\n",
    "yc"
   ],
   "id": "19b4c5757df7e2ad",
   "outputs": [
    {
     "data": {
      "text/plain": [
       "5"
      ],
      "image/png": "[encoded data removed]",
      "text/latex": "$\\displaystyle 5$"
     },
     "execution_count": 342,
     "metadata": {},
     "output_type": "execute_result"
    }
   ],
   "execution_count": 342
  },
  {
   "metadata": {
    "ExecuteTime": {
     "end_time": "2024-06-11T09:34:28.363202Z",
     "start_time": "2024-06-11T09:34:28.360794Z"
    }
   },
   "cell_type": "code",
   "source": "",
   "id": "9d6189427f48f534",
   "outputs": [],
   "execution_count": 342
  },
  {
   "metadata": {
    "ExecuteTime": {
     "end_time": "2024-06-11T09:34:28.366670Z",
     "start_time": "2024-06-11T09:34:28.364245Z"
    }
   },
   "cell_type": "code",
   "source": "",
   "id": "e7941b526b539279",
   "outputs": [],
   "execution_count": 342
  },
  {
   "metadata": {
    "ExecuteTime": {
     "end_time": "2024-06-11T09:34:28.369404Z",
     "start_time": "2024-06-11T09:34:28.367711Z"
    }
   },
   "cell_type": "code",
   "source": "",
   "id": "fb0571602db38594",
   "outputs": [],
   "execution_count": 342
  },
  {
   "metadata": {
    "ExecuteTime": {
     "end_time": "2024-06-11T09:34:28.372206Z",
     "start_time": "2024-06-11T09:34:28.369404Z"
    }
   },
   "cell_type": "code",
   "source": "",
   "id": "4a8b3b46cc6b70bd",
   "outputs": [],
   "execution_count": 342
  },
  {
   "metadata": {
    "ExecuteTime": {
     "end_time": "2024-06-11T09:34:28.375460Z",
     "start_time": "2024-06-11T09:34:28.373258Z"
    }
   },
   "cell_type": "code",
   "source": "",
   "id": "50e55d6424d51d4d",
   "outputs": [],
   "execution_count": 342
  }
 ],
 "metadata": {
  "kernelspec": {
   "display_name": "Python 3",
   "language": "python",
   "name": "python3"
  },
  "language_info": {
   "codemirror_mode": {
    "name": "ipython",
    "version": 2
   },
   "file_extension": ".py",
   "mimetype": "text/x-python",
   "name": "python",
   "nbconvert_exporter": "python",
   "pygments_lexer": "ipython2",
   "version": "2.7.6"
  }
 },
 "nbformat": 4,
 "nbformat_minor": 5
}
