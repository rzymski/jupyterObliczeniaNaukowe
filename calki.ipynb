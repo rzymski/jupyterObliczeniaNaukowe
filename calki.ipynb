{
 "cells": [
  {
   "cell_type": "code",
   "execution_count": 24,
   "outputs": [],
   "source": [
    "from sympy import *\n",
    "init_printing(use_unicode=True)\n",
    "from sympy.plotting import plot\n",
    "x, y, z, l =symbols('x y z l')"
   ],
   "metadata": {
    "collapsed": false,
    "ExecuteTime": {
     "end_time": "2024-04-30T06:39:01.657437900Z",
     "start_time": "2024-04-30T06:39:01.625446300Z"
    }
   }
  },
  {
   "cell_type": "markdown",
   "source": [
    "# zadanie 1 A"
   ],
   "metadata": {
    "collapsed": false
   }
  },
  {
   "cell_type": "code",
   "execution_count": 25,
   "outputs": [
    {
     "data": {
      "text/plain": "⌠                             \n⎮ ⎛     2            2    ⎞   \n⎮ ⎝- 6⋅x  - 7⋅x + 5⋅y  + y⎠ dx\n⌡                             ",
      "text/latex": "$\\displaystyle \\int \\left(- 6 x^{2} - 7 x + 5 y^{2} + y\\right)\\, dx$"
     },
     "execution_count": 25,
     "metadata": {},
     "output_type": "execute_result"
    }
   ],
   "source": [
    "f=-7*x+y-6*x**2+5*y**2\n",
    "f\n",
    "Integral(f,x) #polecenie Integral wypisuje całkę, ale jej nie liczy"
   ],
   "metadata": {
    "collapsed": false,
    "ExecuteTime": {
     "end_time": "2024-04-30T06:39:01.665905700Z",
     "start_time": "2024-04-30T06:39:01.629435Z"
    }
   }
  },
  {
   "cell_type": "code",
   "execution_count": 26,
   "outputs": [
    {
     "data": {
      "text/plain": "            2               \n     3   7⋅x      ⎛   2    ⎞\n- 2⋅x  - ──── + x⋅⎝5⋅y  + y⎠\n          2                 ",
      "text/latex": "$\\displaystyle - 2 x^{3} - \\frac{7 x^{2}}{2} + x \\left(5 y^{2} + y\\right)$"
     },
     "execution_count": 26,
     "metadata": {},
     "output_type": "execute_result"
    }
   ],
   "source": [
    "integrate(f,x) #polecenie integral liczy całkę"
   ],
   "metadata": {
    "collapsed": false,
    "ExecuteTime": {
     "end_time": "2024-04-30T06:39:01.710267800Z",
     "start_time": "2024-04-30T06:39:01.645971700Z"
    }
   }
  },
  {
   "cell_type": "code",
   "execution_count": 27,
   "outputs": [
    {
     "data": {
      "text/plain": "   3    2                   \n5⋅y    y      ⎛     2      ⎞\n──── + ── + y⋅⎝- 6⋅x  - 7⋅x⎠\n 3     2                    ",
      "text/latex": "$\\displaystyle \\frac{5 y^{3}}{3} + \\frac{y^{2}}{2} + y \\left(- 6 x^{2} - 7 x\\right)$"
     },
     "execution_count": 27,
     "metadata": {},
     "output_type": "execute_result"
    }
   ],
   "source": [
    "integrate(f,y)"
   ],
   "metadata": {
    "collapsed": false,
    "ExecuteTime": {
     "end_time": "2024-04-30T06:39:01.711264400Z",
     "start_time": "2024-04-30T06:39:01.662916700Z"
    }
   }
  },
  {
   "cell_type": "code",
   "execution_count": 28,
   "outputs": [
    {
     "data": {
      "text/plain": "⌠ ⌠                                \n⎮ ⎮ ⎛     2            2    ⎞      \n⎮ ⎮ ⎝- 6⋅x  - 7⋅x + 5⋅y  + y⎠ dx dy\n⌡ ⌡                                ",
      "text/latex": "$\\displaystyle \\iint \\left(- 6 x^{2} - 7 x + 5 y^{2} + y\\right)\\, dx\\, dy$"
     },
     "execution_count": 28,
     "metadata": {},
     "output_type": "execute_result"
    }
   ],
   "source": [
    "Integral(f,x,y)"
   ],
   "metadata": {
    "collapsed": false,
    "ExecuteTime": {
     "end_time": "2024-04-30T06:39:01.711264400Z",
     "start_time": "2024-04-30T06:39:01.680450Z"
    }
   }
  },
  {
   "cell_type": "code",
   "execution_count": 29,
   "outputs": [
    {
     "data": {
      "text/plain": "     3      2     ⎛            2⎞\n5⋅x⋅y    x⋅y      ⎜     3   7⋅x ⎟\n────── + ──── + y⋅⎜- 2⋅x  - ────⎟\n  3       2       ⎝          2  ⎠",
      "text/latex": "$\\displaystyle \\frac{5 x y^{3}}{3} + \\frac{x y^{2}}{2} + y \\left(- 2 x^{3} - \\frac{7 x^{2}}{2}\\right)$"
     },
     "execution_count": 29,
     "metadata": {},
     "output_type": "execute_result"
    }
   ],
   "source": [
    "integrate(f,x,y)"
   ],
   "metadata": {
    "collapsed": false,
    "ExecuteTime": {
     "end_time": "2024-04-30T06:39:01.719609400Z",
     "start_time": "2024-04-30T06:39:01.704288700Z"
    }
   }
  },
  {
   "cell_type": "code",
   "execution_count": 30,
   "outputs": [
    {
     "data": {
      "text/plain": "              2       ⎛   3    2⎞\n     3     7⋅x ⋅y     ⎜5⋅y    y ⎟\n- 2⋅x ⋅y - ────── + x⋅⎜──── + ──⎟\n             2        ⎝ 3     2 ⎠",
      "text/latex": "$\\displaystyle - 2 x^{3} y - \\frac{7 x^{2} y}{2} + x \\left(\\frac{5 y^{3}}{3} + \\frac{y^{2}}{2}\\right)$"
     },
     "execution_count": 30,
     "metadata": {},
     "output_type": "execute_result"
    }
   ],
   "source": [
    "integrate(f,y,x)"
   ],
   "metadata": {
    "collapsed": false,
    "ExecuteTime": {
     "end_time": "2024-04-30T06:39:01.747419500Z",
     "start_time": "2024-04-30T06:39:01.718610600Z"
    }
   }
  },
  {
   "cell_type": "code",
   "execution_count": 31,
   "outputs": [
    {
     "data": {
      "text/plain": "    3       2         \n55⋅y    11⋅y    1859⋅y\n───── + ───── - ──────\n  3       2       2   ",
      "text/latex": "$\\displaystyle \\frac{55 y^{3}}{3} + \\frac{11 y^{2}}{2} - \\frac{1859 y}{2}$"
     },
     "execution_count": 31,
     "metadata": {},
     "output_type": "execute_result"
    }
   ],
   "source": [
    "integrate(f,(x,-4,7),y)"
   ],
   "metadata": {
    "collapsed": false,
    "ExecuteTime": {
     "end_time": "2024-04-30T06:39:01.768640700Z",
     "start_time": "2024-04-30T06:39:01.738449700Z"
    }
   }
  },
  {
   "cell_type": "code",
   "execution_count": 32,
   "outputs": [
    {
     "data": {
      "text/plain": "10 7                                 \n⌠  ⌠                                 \n⎮  ⎮  ⎛     2            2    ⎞      \n⎮  ⎮  ⎝- 6⋅x  - 7⋅x + 5⋅y  + y⎠ dx dy\n⌡  ⌡                                 \n2  -4                                ",
      "text/latex": "$\\displaystyle \\int\\limits_{2}^{10}\\int\\limits_{-4}^{7} \\left(- 6 x^{2} - 7 x + 5 y^{2} + y\\right)\\, dx\\, dy$"
     },
     "execution_count": 32,
     "metadata": {},
     "output_type": "execute_result"
    }
   ],
   "source": [
    "Integral(f,(x,-4,7),(y,2,10))"
   ],
   "metadata": {
    "collapsed": false,
    "ExecuteTime": {
     "end_time": "2024-04-30T06:39:01.790425100Z",
     "start_time": "2024-04-30T06:39:01.767643700Z"
    }
   }
  },
  {
   "cell_type": "code",
   "execution_count": 33,
   "outputs": [
    {
     "data": {
      "text/plain": "33836/3",
      "text/latex": "$\\displaystyle \\frac{33836}{3}$"
     },
     "execution_count": 33,
     "metadata": {},
     "output_type": "execute_result"
    }
   ],
   "source": [
    "integrate(f,(x,-4,7),(y,2,10))"
   ],
   "metadata": {
    "collapsed": false,
    "ExecuteTime": {
     "end_time": "2024-04-30T06:39:01.824575300Z",
     "start_time": "2024-04-30T06:39:01.786437900Z"
    }
   }
  },
  {
   "cell_type": "code",
   "execution_count": 34,
   "outputs": [
    {
     "data": {
      "text/plain": "11278.66667",
      "text/latex": "$\\displaystyle 11278.66667$"
     },
     "execution_count": 34,
     "metadata": {},
     "output_type": "execute_result"
    }
   ],
   "source": [
    "integrate(f,(x,-4,7),(y,2,10)).evalf(10)"
   ],
   "metadata": {
    "collapsed": false,
    "ExecuteTime": {
     "end_time": "2024-04-30T06:39:01.862983900Z",
     "start_time": "2024-04-30T06:39:01.820587900Z"
    }
   }
  },
  {
   "cell_type": "markdown",
   "source": [
    "# ZADANIE 1 B"
   ],
   "metadata": {
    "collapsed": false
   }
  },
  {
   "cell_type": "code",
   "execution_count": 34,
   "outputs": [],
   "source": [],
   "metadata": {
    "collapsed": false,
    "ExecuteTime": {
     "end_time": "2024-04-30T06:39:01.862983900Z",
     "start_time": "2024-04-30T06:39:01.848997900Z"
    }
   }
  },
  {
   "cell_type": "markdown",
   "source": [
    "# ZADANIE 1 C"
   ],
   "metadata": {
    "collapsed": false
   }
  },
  {
   "cell_type": "code",
   "execution_count": 34,
   "outputs": [],
   "source": [],
   "metadata": {
    "collapsed": false,
    "ExecuteTime": {
     "end_time": "2024-04-30T06:39:01.862983900Z",
     "start_time": "2024-04-30T06:39:01.852390900Z"
    }
   }
  },
  {
   "cell_type": "markdown",
   "source": [
    "# ZADANIE 1 D"
   ],
   "metadata": {
    "collapsed": false
   }
  },
  {
   "cell_type": "code",
   "execution_count": 34,
   "outputs": [],
   "source": [],
   "metadata": {
    "collapsed": false,
    "ExecuteTime": {
     "end_time": "2024-04-30T06:39:01.862983900Z",
     "start_time": "2024-04-30T06:39:01.854539500Z"
    }
   }
  }
 ],
 "metadata": {
  "kernelspec": {
   "display_name": "Python 3",
   "language": "python",
   "name": "python3"
  },
  "language_info": {
   "codemirror_mode": {
    "name": "ipython",
    "version": 2
   },
   "file_extension": ".py",
   "mimetype": "text/x-python",
   "name": "python",
   "nbconvert_exporter": "python",
   "pygments_lexer": "ipython2",
   "version": "2.7.6"
  }
 },
 "nbformat": 4,
 "nbformat_minor": 0
}
