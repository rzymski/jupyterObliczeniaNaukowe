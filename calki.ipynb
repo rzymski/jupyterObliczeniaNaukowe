{
 "cells": [
  {
   "cell_type": "code",
   "source": [
    "from sympy import *\n",
    "init_printing(use_unicode=True)\n",
    "from sympy.plotting import plot\n",
    "x, y, z, l =symbols('x y z l')"
   ],
   "metadata": {
    "collapsed": false,
    "ExecuteTime": {
     "end_time": "2024-04-30T07:27:00.038347Z",
     "start_time": "2024-04-30T07:26:59.632173Z"
    }
   },
   "outputs": [],
   "execution_count": 2
  },
  {
   "cell_type": "markdown",
   "source": [
    "# zadanie 1 A"
   ],
   "metadata": {
    "collapsed": false
   }
  },
  {
   "cell_type": "code",
   "source": [
    "f=-7*x+y-6*x**2+5*y**2\n",
    "f\n",
    "Integral(f,x) #polecenie Integral wypisuje całkę, ale jej nie liczy"
   ],
   "metadata": {
    "collapsed": false,
    "ExecuteTime": {
     "end_time": "2024-04-30T07:27:00.277269Z",
     "start_time": "2024-04-30T07:27:00.064359Z"
    }
   },
   "outputs": [
    {
     "data": {
      "text/plain": [
       "⌠                             \n",
       "⎮ ⎛     2            2    ⎞   \n",
       "⎮ ⎝- 6⋅x  - 7⋅x + 5⋅y  + y⎠ dx\n",
       "⌡                             "
      ],
      "text/latex": "$\\displaystyle \\int \\left(- 6 x^{2} - 7 x + 5 y^{2} + y\\right)\\, dx$"
     },
     "execution_count": 3,
     "metadata": {},
     "output_type": "execute_result"
    }
   ],
   "execution_count": 3
  },
  {
   "cell_type": "code",
   "source": [
    "integrate(f,x) #polecenie integral liczy całkę"
   ],
   "metadata": {
    "collapsed": false,
    "ExecuteTime": {
     "end_time": "2024-04-30T07:27:00.346787Z",
     "start_time": "2024-04-30T07:27:00.279279Z"
    }
   },
   "outputs": [
    {
     "data": {
      "text/plain": [
       "            2               \n",
       "     3   7⋅x      ⎛   2    ⎞\n",
       "- 2⋅x  - ──── + x⋅⎝5⋅y  + y⎠\n",
       "          2                 "
      ],
      "text/latex": "$\\displaystyle - 2 x^{3} - \\frac{7 x^{2}}{2} + x \\left(5 y^{2} + y\\right)$"
     },
     "execution_count": 4,
     "metadata": {},
     "output_type": "execute_result"
    }
   ],
   "execution_count": 4
  },
  {
   "cell_type": "code",
   "source": [
    "integrate(f,y)"
   ],
   "metadata": {
    "collapsed": false,
    "ExecuteTime": {
     "end_time": "2024-04-30T07:27:00.403800Z",
     "start_time": "2024-04-30T07:27:00.350801Z"
    }
   },
   "outputs": [
    {
     "data": {
      "text/plain": [
       "   3    2                   \n",
       "5⋅y    y      ⎛     2      ⎞\n",
       "──── + ── + y⋅⎝- 6⋅x  - 7⋅x⎠\n",
       " 3     2                    "
      ],
      "text/latex": "$\\displaystyle \\frac{5 y^{3}}{3} + \\frac{y^{2}}{2} + y \\left(- 6 x^{2} - 7 x\\right)$"
     },
     "execution_count": 5,
     "metadata": {},
     "output_type": "execute_result"
    }
   ],
   "execution_count": 5
  },
  {
   "cell_type": "code",
   "source": [
    "Integral(f,x,y)"
   ],
   "metadata": {
    "collapsed": false,
    "ExecuteTime": {
     "end_time": "2024-04-30T07:27:00.457995Z",
     "start_time": "2024-04-30T07:27:00.418811Z"
    }
   },
   "outputs": [
    {
     "data": {
      "text/plain": [
       "⌠ ⌠                                \n",
       "⎮ ⎮ ⎛     2            2    ⎞      \n",
       "⎮ ⎮ ⎝- 6⋅x  - 7⋅x + 5⋅y  + y⎠ dx dy\n",
       "⌡ ⌡                                "
      ],
      "text/latex": "$\\displaystyle \\iint \\left(- 6 x^{2} - 7 x + 5 y^{2} + y\\right)\\, dx\\, dy$"
     },
     "execution_count": 6,
     "metadata": {},
     "output_type": "execute_result"
    }
   ],
   "execution_count": 6
  },
  {
   "cell_type": "code",
   "source": [
    "integrate(f,x,y)"
   ],
   "metadata": {
    "collapsed": false,
    "ExecuteTime": {
     "end_time": "2024-04-30T07:27:00.517427Z",
     "start_time": "2024-04-30T07:27:00.460006Z"
    }
   },
   "outputs": [
    {
     "data": {
      "text/plain": [
       "     3      2     ⎛            2⎞\n",
       "5⋅x⋅y    x⋅y      ⎜     3   7⋅x ⎟\n",
       "────── + ──── + y⋅⎜- 2⋅x  - ────⎟\n",
       "  3       2       ⎝          2  ⎠"
      ],
      "text/latex": "$\\displaystyle \\frac{5 x y^{3}}{3} + \\frac{x y^{2}}{2} + y \\left(- 2 x^{3} - \\frac{7 x^{2}}{2}\\right)$"
     },
     "execution_count": 7,
     "metadata": {},
     "output_type": "execute_result"
    }
   ],
   "execution_count": 7
  },
  {
   "cell_type": "code",
   "source": [
    "integrate(f,y,x)"
   ],
   "metadata": {
    "collapsed": false,
    "ExecuteTime": {
     "end_time": "2024-04-30T07:27:00.554534Z",
     "start_time": "2024-04-30T07:27:00.519436Z"
    }
   },
   "outputs": [
    {
     "data": {
      "text/plain": [
       "              2       ⎛   3    2⎞\n",
       "     3     7⋅x ⋅y     ⎜5⋅y    y ⎟\n",
       "- 2⋅x ⋅y - ────── + x⋅⎜──── + ──⎟\n",
       "             2        ⎝ 3     2 ⎠"
      ],
      "text/latex": "$\\displaystyle - 2 x^{3} y - \\frac{7 x^{2} y}{2} + x \\left(\\frac{5 y^{3}}{3} + \\frac{y^{2}}{2}\\right)$"
     },
     "execution_count": 8,
     "metadata": {},
     "output_type": "execute_result"
    }
   ],
   "execution_count": 8
  },
  {
   "cell_type": "code",
   "source": [
    "integrate(f,(x,-4,7),y)"
   ],
   "metadata": {
    "collapsed": false,
    "ExecuteTime": {
     "end_time": "2024-04-30T07:27:00.666433Z",
     "start_time": "2024-04-30T07:27:00.557546Z"
    }
   },
   "outputs": [
    {
     "data": {
      "text/plain": [
       "    3       2         \n",
       "55⋅y    11⋅y    1859⋅y\n",
       "───── + ───── - ──────\n",
       "  3       2       2   "
      ],
      "text/latex": "$\\displaystyle \\frac{55 y^{3}}{3} + \\frac{11 y^{2}}{2} - \\frac{1859 y}{2}$"
     },
     "execution_count": 9,
     "metadata": {},
     "output_type": "execute_result"
    }
   ],
   "execution_count": 9
  },
  {
   "cell_type": "code",
   "source": [
    "Integral(f,(x,-4,7),(y,2,10))"
   ],
   "metadata": {
    "collapsed": false,
    "ExecuteTime": {
     "end_time": "2024-04-30T07:27:00.703812Z",
     "start_time": "2024-04-30T07:27:00.669431Z"
    }
   },
   "outputs": [
    {
     "data": {
      "text/plain": [
       "10 7                                 \n",
       "⌠  ⌠                                 \n",
       "⎮  ⎮  ⎛     2            2    ⎞      \n",
       "⎮  ⎮  ⎝- 6⋅x  - 7⋅x + 5⋅y  + y⎠ dx dy\n",
       "⌡  ⌡                                 \n",
       "2  -4                                "
      ],
      "text/latex": "$\\displaystyle \\int\\limits_{2}^{10}\\int\\limits_{-4}^{7} \\left(- 6 x^{2} - 7 x + 5 y^{2} + y\\right)\\, dx\\, dy$"
     },
     "execution_count": 10,
     "metadata": {},
     "output_type": "execute_result"
    }
   ],
   "execution_count": 10
  },
  {
   "cell_type": "code",
   "source": [
    "integrate(f,(x,-4,7),(y,2,10))"
   ],
   "metadata": {
    "collapsed": false,
    "ExecuteTime": {
     "end_time": "2024-04-30T07:27:00.761415Z",
     "start_time": "2024-04-30T07:27:00.707823Z"
    }
   },
   "outputs": [
    {
     "data": {
      "text/plain": [
       "33836/3"
      ],
      "text/latex": "$\\displaystyle \\frac{33836}{3}$"
     },
     "execution_count": 11,
     "metadata": {},
     "output_type": "execute_result"
    }
   ],
   "execution_count": 11
  },
  {
   "cell_type": "code",
   "source": [
    "integrate(f,(x,-4,7),(y,2,10)).evalf(10)"
   ],
   "metadata": {
    "collapsed": false,
    "ExecuteTime": {
     "end_time": "2024-04-30T07:27:00.826548Z",
     "start_time": "2024-04-30T07:27:00.763425Z"
    }
   },
   "outputs": [
    {
     "data": {
      "text/plain": [
       "11278.66667"
      ],
      "text/latex": "$\\displaystyle 11278.66667$"
     },
     "execution_count": 12,
     "metadata": {},
     "output_type": "execute_result"
    }
   ],
   "execution_count": 12
  },
  {
   "cell_type": "markdown",
   "source": [
    "# ZADANIE 1 B"
   ],
   "metadata": {
    "collapsed": false
   }
  },
  {
   "cell_type": "code",
   "source": [],
   "metadata": {
    "collapsed": false,
    "ExecuteTime": {
     "end_time": "2024-04-30T07:27:00.832487Z",
     "start_time": "2024-04-30T07:27:00.827556Z"
    }
   },
   "outputs": [],
   "execution_count": 12
  },
  {
   "cell_type": "markdown",
   "source": [
    "# ZADANIE 1 C"
   ],
   "metadata": {
    "collapsed": false
   }
  },
  {
   "cell_type": "code",
   "source": [],
   "metadata": {
    "collapsed": false,
    "ExecuteTime": {
     "end_time": "2024-04-30T07:27:00.838677Z",
     "start_time": "2024-04-30T07:27:00.835487Z"
    }
   },
   "outputs": [],
   "execution_count": 12
  },
  {
   "cell_type": "markdown",
   "source": [
    "# ZADANIE 1 D"
   ],
   "metadata": {
    "collapsed": false
   }
  },
  {
   "cell_type": "code",
   "source": [],
   "metadata": {
    "collapsed": false,
    "ExecuteTime": {
     "end_time": "2024-04-30T07:27:00.844086Z",
     "start_time": "2024-04-30T07:27:00.840688Z"
    }
   },
   "outputs": [],
   "execution_count": 12
  }
 ],
 "metadata": {
  "kernelspec": {
   "display_name": "Python 3",
   "language": "python",
   "name": "python3"
  },
  "language_info": {
   "codemirror_mode": {
    "name": "ipython",
    "version": 2
   },
   "file_extension": ".py",
   "mimetype": "text/x-python",
   "name": "python",
   "nbconvert_exporter": "python",
   "pygments_lexer": "ipython2",
   "version": "2.7.6"
  }
 },
 "nbformat": 4,
 "nbformat_minor": 0
}
