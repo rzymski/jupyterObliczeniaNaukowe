{
 "cells": [
  {
   "cell_type": "code",
   "id": "initial_id",
   "metadata": {
    "collapsed": true,
    "ExecuteTime": {
     "end_time": "2024-04-30T08:20:22.991456Z",
     "start_time": "2024-04-30T08:20:22.410992Z"
    }
   },
   "source": [
    "from sympy import *\n",
    "init_printing(use_unicode=True)\n",
    "from sympy.plotting import plot\n",
    "x, y, z, l =symbols('x y z l')\n"
   ],
   "outputs": [],
   "execution_count": 1
  },
  {
   "metadata": {},
   "cell_type": "markdown",
   "source": [
    "# zadanie 1"
   ],
   "id": "56a25a56d27769b1"
  },
  {
   "metadata": {
    "ExecuteTime": {
     "end_time": "2024-04-30T08:23:09.472810Z",
     "start_time": "2024-04-30T08:23:09.402651Z"
    }
   },
   "cell_type": "code",
   "source": [
    "f = x + y**2 + z**3\n",
    "Integral(f,(x,0,2),(y,2,4),(z,4,6))"
   ],
   "id": "384e707738f49f04",
   "outputs": [
    {
     "data": {
      "text/plain": [
       "6 4 2                       \n",
       "⌠ ⌠ ⌠                       \n",
       "⎮ ⎮ ⎮ ⎛     2    3⎞         \n",
       "⎮ ⎮ ⎮ ⎝x + y  + z ⎠ dx dy dz\n",
       "⌡ ⌡ ⌡                       \n",
       "4 2 0                       "
      ],
      "text/latex": "$\\displaystyle \\int\\limits_{4}^{6}\\int\\limits_{2}^{4}\\int\\limits_{0}^{2} \\left(x + y^{2} + z^{3}\\right)\\, dx\\, dy\\, dz$"
     },
     "execution_count": 2,
     "metadata": {},
     "output_type": "execute_result"
    }
   ],
   "execution_count": 2
  },
  {
   "metadata": {
    "ExecuteTime": {
     "end_time": "2024-04-30T08:26:34.597329Z",
     "start_time": "2024-04-30T08:26:34.523009Z"
    }
   },
   "cell_type": "code",
   "source": [
    "integrate(f,(x,0,2),(y,2,4),(z,4,6)).evalf().round(3)"
   ],
   "id": "62cbdcf324859a67",
   "outputs": [
    {
     "data": {
      "text/plain": [
       "1122.667"
      ],
      "text/latex": "$\\displaystyle 1122.667$"
     },
     "execution_count": 8,
     "metadata": {},
     "output_type": "execute_result"
    }
   ],
   "execution_count": 8
  },
  {
   "metadata": {},
   "cell_type": "code",
   "outputs": [],
   "execution_count": null,
   "source": [
    "Integral(f,(x,0,2),(y,2,4),(z,4,6))"
   ],
   "id": "63cb2de91ca2f799"
  }
 ],
 "metadata": {
  "kernelspec": {
   "display_name": "Python 3",
   "language": "python",
   "name": "python3"
  },
  "language_info": {
   "codemirror_mode": {
    "name": "ipython",
    "version": 2
   },
   "file_extension": ".py",
   "mimetype": "text/x-python",
   "name": "python",
   "nbconvert_exporter": "python",
   "pygments_lexer": "ipython2",
   "version": "2.7.6"
  }
 },
 "nbformat": 4,
 "nbformat_minor": 5
}
