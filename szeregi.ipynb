{
 "cells": [
  {
   "cell_type": "code",
   "id": "initial_id",
   "metadata": {
    "collapsed": true,
    "ExecuteTime": {
     "end_time": "2024-05-14T09:09:31.610565Z",
     "start_time": "2024-05-14T09:09:31.593085Z"
    }
   },
   "source": [
    "from math import factorial\n",
    "from sympy import *\n",
    "init_printing(use_unicode=True)\n",
    "from sympy.plotting import plot\n",
    "x, y, z, l =symbols('x y z l')"
   ],
   "outputs": [],
   "execution_count": 34
  },
  {
   "metadata": {
    "ExecuteTime": {
     "end_time": "2024-05-14T09:09:31.620276Z",
     "start_time": "2024-05-14T09:09:31.610565Z"
    }
   },
   "cell_type": "code",
   "source": "from icecream import ic",
   "id": "afc5f60dd5902507",
   "outputs": [],
   "execution_count": 35
  },
  {
   "metadata": {
    "ExecuteTime": {
     "end_time": "2024-05-14T09:09:31.627928Z",
     "start_time": "2024-05-14T09:09:31.620276Z"
    }
   },
   "cell_type": "code",
   "source": [
    "def w1(func, Nn, x0):\n",
    "    ic(func, Nn, x0)\n",
    "    for n in range(1, Nn+1):\n",
    "        pochodna = diff(func, x, n)\n",
    "        a = pochodna * x0 / factorial(n) * ((x - x0)**n)\n",
    "        ic(pochodna, a)"
   ],
   "id": "f10459931a07701b",
   "outputs": [],
   "execution_count": 36
  },
  {
   "metadata": {
    "ExecuteTime": {
     "end_time": "2024-05-14T09:09:31.732063Z",
     "start_time": "2024-05-14T09:09:31.627928Z"
    }
   },
   "cell_type": "code",
   "source": "w1(sin(x), 5, 0)",
   "id": "11f9f33537be5a0c",
   "outputs": [
    {
     "name": "stderr",
     "output_type": "stream",
     "text": [
      "ic| func: sin(x), Nn: 5, x0: 0\n",
      "ic| pochodna: cos(x), a: 0\n",
      "ic| pochodna: -sin(x), a: 0\n",
      "ic| pochodna: -cos(x), a: 0\n",
      "ic| pochodna: sin(x), a: 0\n",
      "ic| pochodna: cos(x), a: 0\n"
     ]
    }
   ],
   "execution_count": 37
  },
  {
   "metadata": {},
   "cell_type": "code",
   "source": "",
   "id": "da34ed77148b59ef",
   "outputs": [],
   "execution_count": 37
  }
 ],
 "metadata": {
  "kernelspec": {
   "display_name": "Python 3",
   "language": "python",
   "name": "python3"
  },
  "language_info": {
   "codemirror_mode": {
    "name": "ipython",
    "version": 2
   },
   "file_extension": ".py",
   "mimetype": "text/x-python",
   "name": "python",
   "nbconvert_exporter": "python",
   "pygments_lexer": "ipython2",
   "version": "2.7.6"
  }
 },
 "nbformat": 4,
 "nbformat_minor": 5
}
