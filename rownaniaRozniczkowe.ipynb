{
 "cells": [
  {
   "cell_type": "code",
   "id": "initial_id",
   "metadata": {
    "collapsed": true,
    "ExecuteTime": {
     "end_time": "2024-05-28T09:45:38.446492Z",
     "start_time": "2024-05-28T09:45:38.439248Z"
    }
   },
   "source": [
    "from sympy import *\n",
    "init_printing(use_unicode=True)\n",
    "from sympy.abc import x"
   ],
   "outputs": [],
   "execution_count": 88
  },
  {
   "metadata": {
    "ExecuteTime": {
     "end_time": "2024-05-28T09:45:38.485117Z",
     "start_time": "2024-05-28T09:45:38.455026Z"
    }
   },
   "cell_type": "code",
   "source": [
    "yp=Function(\"y\")(x)\n",
    "yp"
   ],
   "id": "42bc2b7a903ab962",
   "outputs": [
    {
     "data": {
      "text/plain": [
       "y(x)"
      ],
      "image/png": "[encoded data removed]",
      "text/latex": "$\\displaystyle y{\\left(x \\right)}$"
     },
     "execution_count": 89,
     "metadata": {},
     "output_type": "execute_result"
    }
   ],
   "execution_count": 89
  },
  {
   "metadata": {
    "ExecuteTime": {
     "end_time": "2024-05-28T09:45:38.490453Z",
     "start_time": "2024-05-28T09:45:38.487161Z"
    }
   },
   "cell_type": "code",
   "source": "y, x = symbols(\"y x\")",
   "id": "166b045c64c0150a",
   "outputs": [],
   "execution_count": 90
  },
  {
   "metadata": {
    "ExecuteTime": {
     "end_time": "2024-05-28T09:45:38.530993Z",
     "start_time": "2024-05-28T09:45:38.492464Z"
    }
   },
   "cell_type": "code",
   "source": [
    "rownanie = Eq(yp, 2*x**2*y+exp(x))\n",
    "rownanie"
   ],
   "id": "dae4b44f0934af52",
   "outputs": [
    {
     "data": {
      "text/plain": [
       "          2      x\n",
       "y(x) = 2⋅x ⋅y + ℯ "
      ],
      "image/png": "[encoded data removed]",
      "text/latex": "$\\displaystyle y{\\left(x \\right)} = 2 x^{2} y + e^{x}$"
     },
     "execution_count": 91,
     "metadata": {},
     "output_type": "execute_result"
    }
   ],
   "execution_count": 91
  },
  {
   "metadata": {
    "ExecuteTime": {
     "end_time": "2024-05-28T09:45:38.539461Z",
     "start_time": "2024-05-28T09:45:38.533528Z"
    }
   },
   "cell_type": "code",
   "source": [
    "# dy1=Derivative(yp,x)\n",
    "# dy1"
   ],
   "id": "38ddea79ff1eec98",
   "outputs": [],
   "execution_count": 92
  },
  {
   "metadata": {
    "ExecuteTime": {
     "end_time": "2024-05-28T09:45:38.545476Z",
     "start_time": "2024-05-28T09:45:38.542478Z"
    }
   },
   "cell_type": "code",
   "source": "",
   "id": "c3bfa1b8208fdf4",
   "outputs": [],
   "execution_count": 92
  },
  {
   "metadata": {
    "ExecuteTime": {
     "end_time": "2024-05-28T09:45:38.550187Z",
     "start_time": "2024-05-28T09:45:38.547674Z"
    }
   },
   "cell_type": "code",
   "source": "",
   "id": "3274c19d29069841",
   "outputs": [],
   "execution_count": 92
  }
 ],
 "metadata": {
  "kernelspec": {
   "display_name": "Python 3",
   "language": "python",
   "name": "python3"
  },
  "language_info": {
   "codemirror_mode": {
    "name": "ipython",
    "version": 2
   },
   "file_extension": ".py",
   "mimetype": "text/x-python",
   "name": "python",
   "nbconvert_exporter": "python",
   "pygments_lexer": "ipython2",
   "version": "2.7.6"
  }
 },
 "nbformat": 4,
 "nbformat_minor": 5
}
