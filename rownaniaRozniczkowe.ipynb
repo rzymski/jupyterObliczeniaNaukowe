{
 "cells": [
  {
   "cell_type": "code",
   "id": "initial_id",
   "metadata": {
    "collapsed": true,
    "ExecuteTime": {
     "end_time": "2024-06-07T11:05:32.237821Z",
     "start_time": "2024-06-07T11:05:32.233286Z"
    }
   },
   "source": [
    "from sympy import *"
   ],
   "outputs": [],
   "execution_count": 69
  },
  {
   "cell_type": "code",
   "source": [
    "from icecream import ic\n",
    "import pandas as pd"
   ],
   "metadata": {
    "collapsed": false,
    "ExecuteTime": {
     "end_time": "2024-06-07T11:05:32.253503Z",
     "start_time": "2024-06-07T11:05:32.249827Z"
    }
   },
   "id": "5351384285a7309a",
   "outputs": [],
   "execution_count": 70
  },
  {
   "metadata": {
    "ExecuteTime": {
     "end_time": "2024-06-07T11:05:32.261077Z",
     "start_time": "2024-06-07T11:05:32.255510Z"
    }
   },
   "cell_type": "code",
   "source": [
    "x = symbols('x')\n",
    "y = symbols(\"y\", cls=Function) # = Function('y')"
   ],
   "id": "42bc2b7a903ab962",
   "outputs": [],
   "execution_count": 71
  },
  {
   "cell_type": "code",
   "source": [
    "points = [0.0, 0.2, 0.4, 0.6, 0.8, 1.0]\n",
    "aFunction = 2 * y(x) + exp(x) - x\n",
    "aInitialCondition = (0, 1/4)  # {y(0): 1 / 4}\n",
    "bFunction = x - 1 + (x + 1)*y(x)\n",
    "bInitialCondition = (0, 0)  # {y(0): 0}"
   ],
   "metadata": {
    "collapsed": false,
    "ExecuteTime": {
     "end_time": "2024-06-07T11:05:32.268954Z",
     "start_time": "2024-06-07T11:05:32.263086Z"
    }
   },
   "id": "4975b9e06bf24106",
   "outputs": [],
   "execution_count": 72
  },
  {
   "metadata": {
    "ExecuteTime": {
     "end_time": "2024-06-07T11:05:32.277806Z",
     "start_time": "2024-06-07T11:05:32.270960Z"
    }
   },
   "cell_type": "code",
   "source": [
    "def dsolveExactSolution(func, initialCondition=(0, 0), pointValues=()):\n",
    "    equation = Eq(y(x).diff(x), func)\n",
    "    initialCondition = {y(initialCondition[0]): initialCondition[1]}\n",
    "    solution = dsolve(equation, y(x), ics=initialCondition)\n",
    "    solution = solution.simplify()\n",
    "    values = [round(solution.rhs.subs(x, p).evalf(10), 5) for p in pointValues]\n",
    "    return solution, values"
   ],
   "id": "dae4b44f0934af52",
   "outputs": [],
   "execution_count": 73
  },
  {
   "cell_type": "code",
   "source": [
    "a1Solution, a1Values = dsolveExactSolution(aFunction, aInitialCondition, points)\n",
    "a1Solution, a1Values"
   ],
   "metadata": {
    "collapsed": false,
    "ExecuteTime": {
     "end_time": "2024-06-07T11:05:32.466898Z",
     "start_time": "2024-06-07T11:05:32.291814Z"
    }
   },
   "id": "5000653c7d62c662",
   "outputs": [
    {
     "data": {
      "text/plain": [
       "(Eq(y(x), x/2 + exp(2*x) - exp(x) + 1/4),\n",
       " [0.25000, 0.62042, 1.18372, 2.04800, 3.37749, 5.42077])"
      ]
     },
     "execution_count": 74,
     "metadata": {},
     "output_type": "execute_result"
    }
   ],
   "execution_count": 74
  },
  {
   "metadata": {
    "ExecuteTime": {
     "end_time": "2024-06-07T11:05:33.318918Z",
     "start_time": "2024-06-07T11:05:32.467903Z"
    }
   },
   "cell_type": "code",
   "source": [
    "b1Solution, b1Values = dsolveExactSolution(bFunction, bInitialCondition, points)\n",
    "b1Solution, b1Values"
   ],
   "id": "c3bfa1b8208fdf4",
   "outputs": [
    {
     "data": {
      "text/plain": [
       "(Eq(y(x), (1 + sqrt(2)*sqrt(pi)*exp(1/2)*erf(sqrt(2)/2))*exp(x*(x + 2)/2) - sqrt(2)*sqrt(pi)*exp(x**2/2 + x + 1/2)*erf(sqrt(2)*(x + 1)/2) - 1),\n",
       " [0.0, -0.20283, -0.42446, -0.69114, -1.04407, -1.55268])"
      ]
     },
     "execution_count": 75,
     "metadata": {},
     "output_type": "execute_result"
    }
   ],
   "execution_count": 75
  },
  {
   "cell_type": "code",
   "source": [
    "approximationPrecision = 10"
   ],
   "metadata": {
    "collapsed": false,
    "ExecuteTime": {
     "end_time": "2024-06-07T11:05:33.323518Z",
     "start_time": "2024-06-07T11:05:33.318918Z"
    }
   },
   "id": "96363cf180782f1",
   "outputs": [],
   "execution_count": 76
  },
  {
   "metadata": {
    "ExecuteTime": {
     "end_time": "2024-06-07T11:05:33.337916Z",
     "start_time": "2024-06-07T11:05:33.327525Z"
    }
   },
   "cell_type": "code",
   "source": [
    "def approximateAnalyticalSolution(func, initialCondition=(0, 0), Nn=5, pointValues=()):\n",
    "    if Nn < 1:\n",
    "        raise Exception(\"Wymagana minimum precyzja 1 pochodnej\")\n",
    "    x0 = initialCondition[0]\n",
    "    y0 = initialCondition[1]\n",
    "    # ic(func, x0, y0)\n",
    "    # Wartosc y0\n",
    "    yValues = [y0]\n",
    "    # Pierwsza pochodna y(1)\n",
    "    yPrim = func.subs(y(x), y0).subs(x, x0)\n",
    "    yValues.append(yPrim)\n",
    "    # Iteracyjnie obliczanie kolejnych pochodnych y(n)\n",
    "    subsDict = {x: x0, y(x): y0}\n",
    "    for n in range(2, Nn+1):\n",
    "        func = diff(func, x)\n",
    "        # Używanie poprzednich wartości pochodnych do podstawienia\n",
    "        subsDict[diff(y(x), x, n-1)] = yValues[n-1]\n",
    "        yn = func.subs(subsDict)\n",
    "        yValues.append(yn)\n",
    "    # Podstawienie Y(k)(x0) do wzoru\n",
    "    taylorSeries = sum(yValues[k] / factorial(k) * ((x - x0) ** k) for k in range(Nn+1))\n",
    "    # Podstawienie punktow do wzoru\n",
    "    approximationSolutions = [round(taylorSeries.subs(x, p).evalf(10), 5) for p in pointValues]\n",
    "    return taylorSeries, approximationSolutions\n"
   ],
   "id": "3274c19d29069841",
   "outputs": [],
   "execution_count": 77
  },
  {
   "cell_type": "code",
   "source": [
    "a2Solution, a2Values = approximateAnalyticalSolution(aFunction, aInitialCondition, approximationPrecision, points)\n",
    "a2Solution, a2Values"
   ],
   "metadata": {
    "collapsed": false,
    "ExecuteTime": {
     "end_time": "2024-06-07T11:05:33.375236Z",
     "start_time": "2024-06-07T11:05:33.340923Z"
    }
   },
   "id": "f28f9620f27abf8a",
   "outputs": [
    {
     "data": {
      "text/plain": [
       "(0.000281911375661376*x**10 + 0.00140817901234568*x**9 + 0.00632440476190476*x**8 + 0.0251984126984127*x**7 + 0.0875*x**6 + 0.258333333333333*x**5 + 0.625*x**4 + 1.16666666666667*x**3 + 1.5*x**2 + 1.5*x + 0.25,\n",
       " [0.25000, 0.62042, 1.18372, 2.04800, 3.37749, 5.42071])"
      ]
     },
     "execution_count": 78,
     "metadata": {},
     "output_type": "execute_result"
    }
   ],
   "execution_count": 78
  },
  {
   "cell_type": "code",
   "source": [
    "b2Solution, b2Values = approximateAnalyticalSolution(bFunction, bInitialCondition, approximationPrecision, points)\n",
    "b2Solution, b2Values"
   ],
   "metadata": {
    "collapsed": false,
    "ExecuteTime": {
     "end_time": "2024-06-07T11:05:33.404571Z",
     "start_time": "2024-06-07T11:05:33.376244Z"
    }
   },
   "id": "7a22dd4bafb10f31",
   "outputs": [
    {
     "data": {
      "text/plain": [
       "(-71*x**10/90720 - 43*x**9/18144 - 11*x**8/2016 - x**7/63 - x**6/36 - x**5/12 - x**4/12 - x**3/3 - x,\n",
       " [0, -0.20283, -0.42446, -0.69114, -1.04403, -1.55226])"
      ]
     },
     "execution_count": 79,
     "metadata": {},
     "output_type": "execute_result"
    }
   ],
   "execution_count": 79
  },
  {
   "cell_type": "code",
   "source": [
    "def numericalSolution(func, initialCondition=(0, 0)):\n",
    "    x0 = initialCondition[0]\n",
    "    y0 = initialCondition[1]\n",
    "    yValue = y0\n",
    "    # akurat punkty roznia sie o 0.2 i jest 6 punktow\n",
    "    h = 0.2\n",
    "    pCount = 6\n",
    "\n",
    "    yValues = [y0]\n",
    "    for k in range(1, pCount):\n",
    "        xK = x0 + (k-1) * h\n",
    "        f = func.subs({x: xK, y(x): yValue})\n",
    "        yValue = yValue + h * f\n",
    "        yValues.append(yValue)\n",
    "    return [round(yValue, 5) for yValue in yValues]"
   ],
   "metadata": {
    "collapsed": false,
    "ExecuteTime": {
     "end_time": "2024-06-07T11:05:33.411638Z",
     "start_time": "2024-06-07T11:05:33.405584Z"
    }
   },
   "id": "e93b067a0d1ca0c0",
   "outputs": [],
   "execution_count": 80
  },
  {
   "cell_type": "code",
   "source": [
    "a3Values = numericalSolution(aFunction, aInitialCondition)\n",
    "a3Values"
   ],
   "metadata": {
    "collapsed": false,
    "ExecuteTime": {
     "end_time": "2024-06-07T11:05:33.424369Z",
     "start_time": "2024-06-07T11:05:33.412646Z"
    }
   },
   "id": "71a012b7cfa454b9",
   "outputs": [
    {
     "data": {
      "text/plain": [
       "[0.25, 0.55000, 0.97428, 1.58236, 2.45972, 3.72872]"
      ]
     },
     "execution_count": 81,
     "metadata": {},
     "output_type": "execute_result"
    }
   ],
   "execution_count": 81
  },
  {
   "cell_type": "code",
   "source": [
    "b3Values = numericalSolution(bFunction, bInitialCondition)\n",
    "b3Values"
   ],
   "metadata": {
    "collapsed": false,
    "ExecuteTime": {
     "end_time": "2024-06-07T11:05:33.439384Z",
     "start_time": "2024-06-07T11:05:33.426718Z"
    }
   },
   "id": "fbebc28d33a15668",
   "outputs": [
    {
     "data": {
      "text/plain": [
       "[0, -0.20000, -0.40800, -0.64224, -0.92776, -1.30175]"
      ]
     },
     "execution_count": 82,
     "metadata": {},
     "output_type": "execute_result"
    }
   ],
   "execution_count": 82
  },
  {
   "cell_type": "code",
   "source": [
    "def createTable(tableName, columnHeaders, rowHeaders, tableValues):\n",
    "    columns = [f\"x{i} = {v}\" for i, v in enumerate(columnHeaders)]\n",
    "    table = pd.DataFrame(tableValues, columns=columns, index=rowHeaders)\n",
    "    table.columns.name = tableName\n",
    "    return table\n"
   ],
   "metadata": {
    "collapsed": false,
    "ExecuteTime": {
     "end_time": "2024-06-07T11:05:33.446427Z",
     "start_time": "2024-06-07T11:05:33.442395Z"
    }
   },
   "id": "5b73f7ba25b8276",
   "outputs": [],
   "execution_count": 83
  },
  {
   "cell_type": "code",
   "source": [
    "aTable = createTable(\"(a)\", points, [\"RD\", f\"RA({approximationPrecision})\", \"RN\"], [a1Values, a2Values, a3Values])\n",
    "aTable"
   ],
   "metadata": {
    "collapsed": false,
    "ExecuteTime": {
     "end_time": "2024-06-07T11:05:33.455098Z",
     "start_time": "2024-06-07T11:05:33.447433Z"
    }
   },
   "id": "1635c90bd1857fca",
   "outputs": [
    {
     "data": {
      "text/plain": [
       "(a)    x0 = 0.0 x1 = 0.2 x2 = 0.4 x3 = 0.6 x4 = 0.8 x5 = 1.0\n",
       "RD      0.25000  0.62042  1.18372  2.04800  3.37749  5.42077\n",
       "RA(10)  0.25000  0.62042  1.18372  2.04800  3.37749  5.42071\n",
       "RN         0.25  0.55000  0.97428  1.58236  2.45972  3.72872"
      ],
      "text/html": [
       "<div>\n",
       "<style scoped>\n",
       "    .dataframe tbody tr th:only-of-type {\n",
       "        vertical-align: middle;\n",
       "    }\n",
       "\n",
       "    .dataframe tbody tr th {\n",
       "        vertical-align: top;\n",
       "    }\n",
       "\n",
       "    .dataframe thead th {\n",
       "        text-align: right;\n",
       "    }\n",
       "</style>\n",
       "<table border=\"1\" class=\"dataframe\">\n",
       "  <thead>\n",
       "    <tr style=\"text-align: right;\">\n",
       "      <th>(a)</th>\n",
       "      <th>x0 = 0.0</th>\n",
       "      <th>x1 = 0.2</th>\n",
       "      <th>x2 = 0.4</th>\n",
       "      <th>x3 = 0.6</th>\n",
       "      <th>x4 = 0.8</th>\n",
       "      <th>x5 = 1.0</th>\n",
       "    </tr>\n",
       "  </thead>\n",
       "  <tbody>\n",
       "    <tr>\n",
       "      <th>RD</th>\n",
       "      <td>0.25000</td>\n",
       "      <td>0.62042</td>\n",
       "      <td>1.18372</td>\n",
       "      <td>2.04800</td>\n",
       "      <td>3.37749</td>\n",
       "      <td>5.42077</td>\n",
       "    </tr>\n",
       "    <tr>\n",
       "      <th>RA(10)</th>\n",
       "      <td>0.25000</td>\n",
       "      <td>0.62042</td>\n",
       "      <td>1.18372</td>\n",
       "      <td>2.04800</td>\n",
       "      <td>3.37749</td>\n",
       "      <td>5.42071</td>\n",
       "    </tr>\n",
       "    <tr>\n",
       "      <th>RN</th>\n",
       "      <td>0.25</td>\n",
       "      <td>0.55000</td>\n",
       "      <td>0.97428</td>\n",
       "      <td>1.58236</td>\n",
       "      <td>2.45972</td>\n",
       "      <td>3.72872</td>\n",
       "    </tr>\n",
       "  </tbody>\n",
       "</table>\n",
       "</div>"
      ]
     },
     "execution_count": 84,
     "metadata": {},
     "output_type": "execute_result"
    }
   ],
   "execution_count": 84
  },
  {
   "cell_type": "code",
   "source": [
    "bTable = createTable(\"(b)\", points, [\"RD\", f\"RA({approximationPrecision})\", \"RN\"], [b1Values, b2Values, b3Values])\n",
    "bTable"
   ],
   "metadata": {
    "collapsed": false,
    "ExecuteTime": {
     "end_time": "2024-06-07T11:05:33.465676Z",
     "start_time": "2024-06-07T11:05:33.456104Z"
    }
   },
   "id": "4bedcad7a44f9b9f",
   "outputs": [
    {
     "data": {
      "text/plain": [
       "(b)    x0 = 0.0  x1 = 0.2  x2 = 0.4  x3 = 0.6  x4 = 0.8  x5 = 1.0\n",
       "RD          0.0  -0.20283  -0.42446  -0.69114  -1.04407  -1.55268\n",
       "RA(10)        0  -0.20283  -0.42446  -0.69114  -1.04403  -1.55226\n",
       "RN            0  -0.20000  -0.40800  -0.64224  -0.92776  -1.30175"
      ],
      "text/html": [
       "<div>\n",
       "<style scoped>\n",
       "    .dataframe tbody tr th:only-of-type {\n",
       "        vertical-align: middle;\n",
       "    }\n",
       "\n",
       "    .dataframe tbody tr th {\n",
       "        vertical-align: top;\n",
       "    }\n",
       "\n",
       "    .dataframe thead th {\n",
       "        text-align: right;\n",
       "    }\n",
       "</style>\n",
       "<table border=\"1\" class=\"dataframe\">\n",
       "  <thead>\n",
       "    <tr style=\"text-align: right;\">\n",
       "      <th>(b)</th>\n",
       "      <th>x0 = 0.0</th>\n",
       "      <th>x1 = 0.2</th>\n",
       "      <th>x2 = 0.4</th>\n",
       "      <th>x3 = 0.6</th>\n",
       "      <th>x4 = 0.8</th>\n",
       "      <th>x5 = 1.0</th>\n",
       "    </tr>\n",
       "  </thead>\n",
       "  <tbody>\n",
       "    <tr>\n",
       "      <th>RD</th>\n",
       "      <td>0.0</td>\n",
       "      <td>-0.20283</td>\n",
       "      <td>-0.42446</td>\n",
       "      <td>-0.69114</td>\n",
       "      <td>-1.04407</td>\n",
       "      <td>-1.55268</td>\n",
       "    </tr>\n",
       "    <tr>\n",
       "      <th>RA(10)</th>\n",
       "      <td>0</td>\n",
       "      <td>-0.20283</td>\n",
       "      <td>-0.42446</td>\n",
       "      <td>-0.69114</td>\n",
       "      <td>-1.04403</td>\n",
       "      <td>-1.55226</td>\n",
       "    </tr>\n",
       "    <tr>\n",
       "      <th>RN</th>\n",
       "      <td>0</td>\n",
       "      <td>-0.20000</td>\n",
       "      <td>-0.40800</td>\n",
       "      <td>-0.64224</td>\n",
       "      <td>-0.92776</td>\n",
       "      <td>-1.30175</td>\n",
       "    </tr>\n",
       "  </tbody>\n",
       "</table>\n",
       "</div>"
      ]
     },
     "execution_count": 85,
     "metadata": {},
     "output_type": "execute_result"
    }
   ],
   "execution_count": 85
  }
 ],
 "metadata": {
  "kernelspec": {
   "display_name": "Python 3",
   "language": "python",
   "name": "python3"
  },
  "language_info": {
   "codemirror_mode": {
    "name": "ipython",
    "version": 2
   },
   "file_extension": ".py",
   "mimetype": "text/x-python",
   "name": "python",
   "nbconvert_exporter": "python",
   "pygments_lexer": "ipython2",
   "version": "2.7.6"
  }
 },
 "nbformat": 4,
 "nbformat_minor": 5
}
