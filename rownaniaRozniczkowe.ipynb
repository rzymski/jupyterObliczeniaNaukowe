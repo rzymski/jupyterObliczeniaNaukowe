{
 "cells": [
  {
   "cell_type": "code",
   "id": "initial_id",
   "metadata": {
    "collapsed": true,
    "ExecuteTime": {
     "end_time": "2024-06-06T22:10:55.625661Z",
     "start_time": "2024-06-06T22:10:55.614711Z"
    }
   },
   "source": [
    "from sympy import *"
   ],
   "outputs": [],
   "execution_count": 113
  },
  {
   "cell_type": "code",
   "execution_count": 114,
   "outputs": [],
   "source": [
    "from icecream import ic\n",
    "import pandas as pd"
   ],
   "metadata": {
    "collapsed": false,
    "ExecuteTime": {
     "end_time": "2024-06-06T22:10:55.625661Z",
     "start_time": "2024-06-06T22:10:55.617567600Z"
    }
   }
  },
  {
   "metadata": {
    "ExecuteTime": {
     "end_time": "2024-06-06T22:10:55.625661Z",
     "start_time": "2024-06-06T22:10:55.620644400Z"
    }
   },
   "cell_type": "code",
   "source": [
    "x = symbols('x')\n",
    "y = Function('y')"
   ],
   "id": "42bc2b7a903ab962",
   "outputs": [],
   "execution_count": 115
  },
  {
   "metadata": {
    "ExecuteTime": {
     "end_time": "2024-06-06T22:10:55.629115400Z",
     "start_time": "2024-06-06T22:10:55.623662600Z"
    }
   },
   "cell_type": "code",
   "source": [
    "yPrim = y(x).diff(x)\n",
    "yPrim"
   ],
   "id": "166b045c64c0150a",
   "outputs": [
    {
     "data": {
      "text/plain": "Derivative(y(x), x)",
      "text/latex": "$\\displaystyle \\frac{d}{d x} y{\\left(x \\right)}$"
     },
     "execution_count": 116,
     "metadata": {},
     "output_type": "execute_result"
    }
   ],
   "execution_count": 116
  },
  {
   "metadata": {
    "ExecuteTime": {
     "end_time": "2024-06-06T22:10:55.631629200Z",
     "start_time": "2024-06-06T22:10:55.629115400Z"
    }
   },
   "cell_type": "code",
   "source": [
    "def calculateDifferentialEquationWithDsolve(equation, initialCondition, pointValues = ()):\n",
    "    solution = dsolve(equation, y(x), ics=initialCondition)\n",
    "    solution = solution.simplify()\n",
    "    values = [round(solution.rhs.subs(x, p).evalf(10), 5) for p in pointValues]\n",
    "    return solution, values"
   ],
   "id": "dae4b44f0934af52",
   "outputs": [],
   "execution_count": 117
  },
  {
   "metadata": {
    "ExecuteTime": {
     "end_time": "2024-06-06T22:10:55.636301300Z",
     "start_time": "2024-06-06T22:10:55.630628700Z"
    }
   },
   "cell_type": "code",
   "source": [
    "points = [0.0, 0.2, 0.4, 0.6, 0.8, 1.0]"
   ],
   "id": "38ddea79ff1eec98",
   "outputs": [],
   "execution_count": 118
  },
  {
   "cell_type": "code",
   "execution_count": 119,
   "outputs": [
    {
     "data": {
      "text/plain": "(Eq(y(x), x/2 + exp(2*x) - exp(x) + 1/4),\n [0.25000, 0.62042, 1.18372, 2.04800, 3.37749, 5.42077])"
     },
     "execution_count": 119,
     "metadata": {},
     "output_type": "execute_result"
    }
   ],
   "source": [
    "a1Equation = Eq(yPrim, 2 * y(x) + exp(x) - x)\n",
    "a1InitialCondition = {y(0): 1 / 4}\n",
    "a1Solution, a1Values = calculateDifferentialEquationWithDsolve(a1Equation, a1InitialCondition, points)\n",
    "a1Solution, a1Values"
   ],
   "metadata": {
    "collapsed": false,
    "ExecuteTime": {
     "end_time": "2024-06-06T22:10:55.772369300Z",
     "start_time": "2024-06-06T22:10:55.635301300Z"
    }
   }
  },
  {
   "metadata": {
    "ExecuteTime": {
     "end_time": "2024-06-06T22:10:56.551165500Z",
     "start_time": "2024-06-06T22:10:55.773368900Z"
    }
   },
   "cell_type": "code",
   "source": [
    "b1Equation = Eq(y(x).diff(x) - (x + 1)*y(x), x - 1)\n",
    "b1InitialCondition = {y(0): 0}\n",
    "b1Solution, b1Values = calculateDifferentialEquationWithDsolve(b1Equation, b1InitialCondition, points)\n",
    "b1Solution, b1Values"
   ],
   "id": "c3bfa1b8208fdf4",
   "outputs": [
    {
     "data": {
      "text/plain": "(Eq(y(x), (1 + sqrt(2)*sqrt(pi)*exp(1/2)*erf(sqrt(2)/2))*exp(x*(x + 2)/2) - sqrt(2)*sqrt(pi)*exp(x**2/2 + x + 1/2)*erf(sqrt(2)*(x + 1)/2) - 1),\n [0.0, -0.20283, -0.42446, -0.69114, -1.04407, -1.55268])"
     },
     "execution_count": 120,
     "metadata": {},
     "output_type": "execute_result"
    }
   ],
   "execution_count": 120
  },
  {
   "metadata": {
    "ExecuteTime": {
     "end_time": "2024-06-06T22:10:56.552164600Z",
     "start_time": "2024-06-06T22:10:56.535912300Z"
    }
   },
   "cell_type": "code",
   "source": [],
   "id": "3274c19d29069841",
   "outputs": [],
   "execution_count": 120
  },
  {
   "cell_type": "code",
   "execution_count": 120,
   "outputs": [],
   "source": [],
   "metadata": {
    "collapsed": false,
    "ExecuteTime": {
     "end_time": "2024-06-06T22:10:56.552164600Z",
     "start_time": "2024-06-06T22:10:56.551165500Z"
    }
   }
  },
  {
   "cell_type": "code",
   "execution_count": 120,
   "outputs": [],
   "source": [],
   "metadata": {
    "collapsed": false,
    "ExecuteTime": {
     "end_time": "2024-06-06T22:10:56.552164600Z",
     "start_time": "2024-06-06T22:10:56.551658300Z"
    }
   }
  },
  {
   "cell_type": "code",
   "execution_count": 120,
   "outputs": [],
   "source": [],
   "metadata": {
    "collapsed": false,
    "ExecuteTime": {
     "end_time": "2024-06-06T22:10:56.552164600Z",
     "start_time": "2024-06-06T22:10:56.551658300Z"
    }
   }
  },
  {
   "cell_type": "code",
   "execution_count": 120,
   "outputs": [],
   "source": [],
   "metadata": {
    "collapsed": false,
    "ExecuteTime": {
     "end_time": "2024-06-06T22:10:56.552164600Z",
     "start_time": "2024-06-06T22:10:56.551658300Z"
    }
   }
  },
  {
   "cell_type": "code",
   "execution_count": 120,
   "outputs": [],
   "source": [],
   "metadata": {
    "collapsed": false,
    "ExecuteTime": {
     "end_time": "2024-06-06T22:10:56.552164600Z",
     "start_time": "2024-06-06T22:10:56.551658300Z"
    }
   }
  },
  {
   "cell_type": "code",
   "execution_count": 120,
   "outputs": [],
   "source": [],
   "metadata": {
    "collapsed": false,
    "ExecuteTime": {
     "end_time": "2024-06-06T22:10:56.552164600Z",
     "start_time": "2024-06-06T22:10:56.551658300Z"
    }
   }
  },
  {
   "cell_type": "code",
   "execution_count": 120,
   "outputs": [],
   "source": [],
   "metadata": {
    "collapsed": false,
    "ExecuteTime": {
     "end_time": "2024-06-06T22:10:56.555295100Z",
     "start_time": "2024-06-06T22:10:56.552164600Z"
    }
   }
  },
  {
   "cell_type": "code",
   "execution_count": 121,
   "outputs": [],
   "source": [
    "def createTable(tableName, columnHeaders, rowHeaders, tableValues):\n",
    "    columns = [f\"x{i} = {v}\" for i, v in enumerate(columnHeaders)]\n",
    "    table = pd.DataFrame(tableValues, columns=columns, index=rowHeaders)\n",
    "    table.columns.name = tableName\n",
    "    return table\n"
   ],
   "metadata": {
    "collapsed": false,
    "ExecuteTime": {
     "end_time": "2024-06-06T22:10:56.558782900Z",
     "start_time": "2024-06-06T22:10:56.554292500Z"
    }
   }
  },
  {
   "cell_type": "code",
   "execution_count": 122,
   "outputs": [
    {
     "data": {
      "text/plain": "(a) x0 = 0.0 x1 = 0.2 x2 = 0.4 x3 = 0.6 x4 = 0.8 x5 = 1.0\nRD   0.25000  0.62042  1.18372  2.04800  3.37749  5.42077\nRA      None     None     None     None     None     None\nRN      None     None     None     None     None     None",
      "text/html": "<div>\n<style scoped>\n    .dataframe tbody tr th:only-of-type {\n        vertical-align: middle;\n    }\n\n    .dataframe tbody tr th {\n        vertical-align: top;\n    }\n\n    .dataframe thead th {\n        text-align: right;\n    }\n</style>\n<table border=\"1\" class=\"dataframe\">\n  <thead>\n    <tr style=\"text-align: right;\">\n      <th>(a)</th>\n      <th>x0 = 0.0</th>\n      <th>x1 = 0.2</th>\n      <th>x2 = 0.4</th>\n      <th>x3 = 0.6</th>\n      <th>x4 = 0.8</th>\n      <th>x5 = 1.0</th>\n    </tr>\n  </thead>\n  <tbody>\n    <tr>\n      <th>RD</th>\n      <td>0.25000</td>\n      <td>0.62042</td>\n      <td>1.18372</td>\n      <td>2.04800</td>\n      <td>3.37749</td>\n      <td>5.42077</td>\n    </tr>\n    <tr>\n      <th>RA</th>\n      <td>None</td>\n      <td>None</td>\n      <td>None</td>\n      <td>None</td>\n      <td>None</td>\n      <td>None</td>\n    </tr>\n    <tr>\n      <th>RN</th>\n      <td>None</td>\n      <td>None</td>\n      <td>None</td>\n      <td>None</td>\n      <td>None</td>\n      <td>None</td>\n    </tr>\n  </tbody>\n</table>\n</div>"
     },
     "execution_count": 122,
     "metadata": {},
     "output_type": "execute_result"
    }
   ],
   "source": [
    "aTable = createTable(\"(a)\", points, [\"RD\", \"RA\", \"RN\"], [a1Values, [], []])\n",
    "aTable"
   ],
   "metadata": {
    "collapsed": false,
    "ExecuteTime": {
     "end_time": "2024-06-06T22:10:56.565233100Z",
     "start_time": "2024-06-06T22:10:56.558782900Z"
    }
   }
  },
  {
   "cell_type": "code",
   "execution_count": 123,
   "outputs": [
    {
     "data": {
      "text/plain": "(b) x0 = 0.0  x1 = 0.2  x2 = 0.4  x3 = 0.6  x4 = 0.8  x5 = 1.0\nRD       0.0  -0.20283  -0.42446  -0.69114  -1.04407  -1.55268\nRA      None      None      None      None      None      None\nRN      None      None      None      None      None      None",
      "text/html": "<div>\n<style scoped>\n    .dataframe tbody tr th:only-of-type {\n        vertical-align: middle;\n    }\n\n    .dataframe tbody tr th {\n        vertical-align: top;\n    }\n\n    .dataframe thead th {\n        text-align: right;\n    }\n</style>\n<table border=\"1\" class=\"dataframe\">\n  <thead>\n    <tr style=\"text-align: right;\">\n      <th>(b)</th>\n      <th>x0 = 0.0</th>\n      <th>x1 = 0.2</th>\n      <th>x2 = 0.4</th>\n      <th>x3 = 0.6</th>\n      <th>x4 = 0.8</th>\n      <th>x5 = 1.0</th>\n    </tr>\n  </thead>\n  <tbody>\n    <tr>\n      <th>RD</th>\n      <td>0.0</td>\n      <td>-0.20283</td>\n      <td>-0.42446</td>\n      <td>-0.69114</td>\n      <td>-1.04407</td>\n      <td>-1.55268</td>\n    </tr>\n    <tr>\n      <th>RA</th>\n      <td>None</td>\n      <td>None</td>\n      <td>None</td>\n      <td>None</td>\n      <td>None</td>\n      <td>None</td>\n    </tr>\n    <tr>\n      <th>RN</th>\n      <td>None</td>\n      <td>None</td>\n      <td>None</td>\n      <td>None</td>\n      <td>None</td>\n      <td>None</td>\n    </tr>\n  </tbody>\n</table>\n</div>"
     },
     "execution_count": 123,
     "metadata": {},
     "output_type": "execute_result"
    }
   ],
   "source": [
    "bTable = createTable(\"(b)\", points, [\"RD\", \"RA\", \"RN\"], [b1Values, [], []])\n",
    "bTable"
   ],
   "metadata": {
    "collapsed": false,
    "ExecuteTime": {
     "end_time": "2024-06-06T22:10:56.583270700Z",
     "start_time": "2024-06-06T22:10:56.569330700Z"
    }
   }
  }
 ],
 "metadata": {
  "kernelspec": {
   "display_name": "Python 3",
   "language": "python",
   "name": "python3"
  },
  "language_info": {
   "codemirror_mode": {
    "name": "ipython",
    "version": 2
   },
   "file_extension": ".py",
   "mimetype": "text/x-python",
   "name": "python",
   "nbconvert_exporter": "python",
   "pygments_lexer": "ipython2",
   "version": "2.7.6"
  }
 },
 "nbformat": 4,
 "nbformat_minor": 5
}
